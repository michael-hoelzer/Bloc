{
 "cells": [
  {
   "cell_type": "markdown",
   "id": "dd866464-7981-495d-88b4-7f5f9c8a5092",
   "metadata": {},
   "source": [
    "# Bloc Final Project\n",
    "Michael Hoelzer and Josh Salmon"
   ]
  },
  {
   "cell_type": "markdown",
   "id": "cb71385b",
   "metadata": {},
   "source": [
    "----------------------------------------------------------------------------------------------------------------------------------------------------------------"
   ]
  },
  {
   "cell_type": "markdown",
   "id": "1f2ec4dd",
   "metadata": {},
   "source": [
    "## Overview:"
   ]
  },
  {
   "cell_type": "markdown",
   "id": "c41ae604",
   "metadata": {},
   "source": [
    "We are utilizing data from an app called Bloc, which is a communication and engagement tool at a few high schools in St. Louis. The data was taken from the first semester of school (115 days). For this project, we wanted to see how our research and models can help Bloc during implementation processes at other schools, feature engineering for boosted engagement, and uncover trends to help schools and their communities in the future. To complete the project, we are using 4 different datapoints/features in the app:\n",
    "- Users\n",
    "- Events\n",
    "- Media\n",
    "- Directory"
   ]
  },
  {
   "cell_type": "markdown",
   "id": "f813da48",
   "metadata": {},
   "source": [
    "## Final Results:\n",
    "\n",
    "Our end goal was to create a model that can predict how Bloc might be used/utilized at another school if Bloc were to be implemented. We chose Villa Duchesne because it allowed us to observed patterns from schools with similar characteristics to Villa, providing a basis for making informed predictions. To do this, we created our dummy (fake) data for Villa Duchesne and then created our models for each feature. Doing so allows us to:\n",
    "\n",
    "- Understanding Potential User Engagement: If Villa doesn't have existing usage data (because Bloc is not yet implemented), creating a simulated dataset based on known patterns from similar schools can help predict how their users might engage with the directory.\n",
    "\n",
    "\n",
    "- Model Training: Predictive models need data to learn from. If Villa has no historical data, the model can't be trained to predict for Villa specifically. By using dummy data that reflects the behavior at similar institutions, you create a proxy that allows the model to learn patterns that might be applicable to Villa.\n",
    "\n",
    "\n",
    "- Feature Representation: The dummy data for Villa should have similar feature values to those from the other schools to ensure the model learns a representation that is relevant when making predictions for Villa. It might include similar directory titles, types of content, or any other relevant features.\n",
    "\n",
    "\n",
    "- Better Generalization: Training on a more extensive dataset that includes both real and dummy data can help the model generalize better, especially when the real data is limited. This can potentially improve the model's accuracy when predicting unknown data.\n",
    "\n",
    "\n",
    "- Performance Estimation: The Root Mean Squared Error (RMSE) calculated can give an estimate of how well the model might perform when predicting clicks for Villa. This estimate is more reliable when the dummy data closely matches what Villa's actual data might look like."
   ]
  },
  {
   "cell_type": "markdown",
   "id": "faaa93cb",
   "metadata": {},
   "source": [
    "----------------------------------------------------------------------------------------------------------------------------------------------------------------"
   ]
  },
  {
   "cell_type": "markdown",
   "id": "52e95c71",
   "metadata": {},
   "source": [
    "## Libraries and Dependencies"
   ]
  },
  {
   "cell_type": "code",
   "execution_count": 28,
   "id": "fbb71930-6f31-478c-b6d4-f49b72d3bfdb",
   "metadata": {},
   "outputs": [],
   "source": [
    "# Importing all the Packages and Libraries\n",
    "import pandas as pd\n",
    "import numpy as np\n",
    "import matplotlib.pyplot as plt\n",
    "from textwrap import wrap\n",
    "import seaborn as sns\n",
    "from tabulate import tabulate\n",
    "import warnings\n",
    "from sklearn.model_selection import train_test_split\n",
    "from sklearn.preprocessing import LabelEncoder\n",
    "from sklearn.ensemble import RandomForestClassifier\n",
    "from sklearn.metrics import accuracy_score\n",
    "from sklearn.metrics import mean_squared_error, mean_absolute_error\n",
    "from sklearn.linear_model import LogisticRegression\n",
    "from sklearn.metrics import mean_squared_error, accuracy_score\n",
    "from sklearn.model_selection import train_test_split\n",
    "from sklearn.feature_extraction.text import TfidfVectorizer\n",
    "from sklearn.metrics.pairwise import cosine_similarity\n",
    "from sklearn.svm import SVC\n",
    "from sklearn.neighbors import KNeighborsClassifier\n",
    "from sklearn.tree import DecisionTreeClassifier\n",
    "from sklearn.neural_network import MLPClassifier\n",
    "from keras.models import Sequential\n",
    "from keras.layers import LSTM, Dense\n",
    "from keras.optimizers import Adam\n",
    "from sklearn.preprocessing import StandardScaler\n",
    "from keras.layers import LSTM, Dense, Dropout, BatchNormalization\n",
    "from sklearn.preprocessing import LabelEncoder\n",
    "from sklearn.linear_model import LinearRegression\n",
    "from sklearn.ensemble import RandomForestRegressor\n",
    "from scipy.stats import zscore\n",
    "\n",
    "\n",
    "warnings.filterwarnings(\"ignore\")"
   ]
  },
  {
   "cell_type": "code",
   "execution_count": 29,
   "id": "bd9e2867-2d3a-45b2-9d92-01b39d891c31",
   "metadata": {},
   "outputs": [],
   "source": [
    "# Read Excel files into DataFrames\n",
    "df1 = pd.read_excel('Users.xlsx')\n",
    "df2 = pd.read_excel('Events.xlsx')\n",
    "df3 = pd.read_excel('Media.xlsx')\n",
    "df4 = pd.read_excel('Directory.xlsx')"
   ]
  },
  {
   "cell_type": "markdown",
   "id": "a222b0c4",
   "metadata": {},
   "source": [
    "----------------------------------------------------------------------------------------------------------------------------------------------------------------"
   ]
  },
  {
   "cell_type": "markdown",
   "id": "6425ea27-2592-4617-8aad-ebac11478e57",
   "metadata": {},
   "source": [
    "## Analyzing the Users"
   ]
  },
  {
   "cell_type": "code",
   "execution_count": 30,
   "id": "d965560d-9550-4d18-bb0f-ed2b566230b2",
   "metadata": {},
   "outputs": [
    {
     "data": {
      "text/html": [
       "<div>\n",
       "<style scoped>\n",
       "    .dataframe tbody tr th:only-of-type {\n",
       "        vertical-align: middle;\n",
       "    }\n",
       "\n",
       "    .dataframe tbody tr th {\n",
       "        vertical-align: top;\n",
       "    }\n",
       "\n",
       "    .dataframe thead th {\n",
       "        text-align: right;\n",
       "    }\n",
       "</style>\n",
       "<table border=\"1\" class=\"dataframe\">\n",
       "  <thead>\n",
       "    <tr style=\"text-align: right;\">\n",
       "      <th></th>\n",
       "      <th>User_ID</th>\n",
       "      <th>Identification</th>\n",
       "      <th>School</th>\n",
       "      <th>Event_Clicks</th>\n",
       "      <th>Media_Clicks</th>\n",
       "      <th>Directory_Clicks</th>\n",
       "      <th>Days_Logged_In</th>\n",
       "    </tr>\n",
       "  </thead>\n",
       "  <tbody>\n",
       "    <tr>\n",
       "      <th>0</th>\n",
       "      <td>User 34</td>\n",
       "      <td>Alumni / Alumnae</td>\n",
       "      <td>Incarnate Word Academy - St. Louis, MO</td>\n",
       "      <td>1</td>\n",
       "      <td>0</td>\n",
       "      <td>1.0</td>\n",
       "      <td>2</td>\n",
       "    </tr>\n",
       "    <tr>\n",
       "      <th>1</th>\n",
       "      <td>User 27</td>\n",
       "      <td>Alumni / Alumnae</td>\n",
       "      <td>Incarnate Word Academy - St. Louis, MO</td>\n",
       "      <td>1</td>\n",
       "      <td>1</td>\n",
       "      <td>0.0</td>\n",
       "      <td>3</td>\n",
       "    </tr>\n",
       "    <tr>\n",
       "      <th>2</th>\n",
       "      <td>User 43</td>\n",
       "      <td>Alumni / Alumnae</td>\n",
       "      <td>Incarnate Word Academy - St. Louis, MO</td>\n",
       "      <td>1</td>\n",
       "      <td>0</td>\n",
       "      <td>1.0</td>\n",
       "      <td>4</td>\n",
       "    </tr>\n",
       "    <tr>\n",
       "      <th>3</th>\n",
       "      <td>User 42</td>\n",
       "      <td>Alumni / Alumnae</td>\n",
       "      <td>Incarnate Word Academy - St. Louis, MO</td>\n",
       "      <td>0</td>\n",
       "      <td>1</td>\n",
       "      <td>1.0</td>\n",
       "      <td>5</td>\n",
       "    </tr>\n",
       "    <tr>\n",
       "      <th>4</th>\n",
       "      <td>User 6</td>\n",
       "      <td>Alumni / Alumnae</td>\n",
       "      <td>Incarnate Word Academy - St. Louis, MO</td>\n",
       "      <td>2</td>\n",
       "      <td>0</td>\n",
       "      <td>1.0</td>\n",
       "      <td>7</td>\n",
       "    </tr>\n",
       "  </tbody>\n",
       "</table>\n",
       "</div>"
      ],
      "text/plain": [
       "   User_ID    Identification                                  School  \\\n",
       "0  User 34  Alumni / Alumnae  Incarnate Word Academy - St. Louis, MO   \n",
       "1  User 27  Alumni / Alumnae  Incarnate Word Academy - St. Louis, MO   \n",
       "2  User 43  Alumni / Alumnae  Incarnate Word Academy - St. Louis, MO   \n",
       "3  User 42  Alumni / Alumnae  Incarnate Word Academy - St. Louis, MO   \n",
       "4   User 6  Alumni / Alumnae  Incarnate Word Academy - St. Louis, MO   \n",
       "\n",
       "   Event_Clicks  Media_Clicks  Directory_Clicks  Days_Logged_In  \n",
       "0             1             0               1.0               2  \n",
       "1             1             1               0.0               3  \n",
       "2             1             0               1.0               4  \n",
       "3             0             1               1.0               5  \n",
       "4             2             0               1.0               7  "
      ]
     },
     "execution_count": 30,
     "metadata": {},
     "output_type": "execute_result"
    }
   ],
   "source": [
    "selected_features_df1 = df1[['User_ID', 'Identification', 'School', 'Event_Clicks', 'Media_Clicks', 'Directory_Clicks', 'Days_Logged_In']]\n",
    "selected_features_df1.head()"
   ]
  },
  {
   "cell_type": "markdown",
   "id": "7deba0ff",
   "metadata": {},
   "source": [
    "This DataFrame includes crucial user-centric information such as User_ID, Identification, School affiliation, counts of clicks on Events, Media, and Directory listings, as well as the number of Days Logged In. By focusing on these features, the analysis aims to gain a holistic understanding of user behavior patterns, preferences, and engagement levels within the app over the first semester of school. Through this comprehensive approach, insights can be derived regarding the popularity of various app features, differences in engagement across different schools, and overall user activity trends. These insights are invaluable for informing strategies to enhance user engagement, optimize app functionality, and tailor the Bloc app experience to better meet the needs of its users and the educational communities it serves."
   ]
  },
  {
   "cell_type": "markdown",
   "id": "0df3b6e7-aae3-4358-a48c-ce776792cc5a",
   "metadata": {},
   "source": [
    "## Data Pre-processing"
   ]
  },
  {
   "cell_type": "code",
   "execution_count": 4,
   "id": "056d5b0f-cc98-45b3-a8e4-347886e96ead",
   "metadata": {},
   "outputs": [
    {
     "name": "stdout",
     "output_type": "stream",
     "text": [
      "No missing values found.\n"
     ]
    }
   ],
   "source": [
    "def check_missing_values(data):\n",
    "    missing_values = data.isna().sum().sum()\n",
    "    if missing_values == 0:\n",
    "        print(\"No missing values found.\")\n",
    "    else:\n",
    "        print(\"Number of missing values found:\", missing_values)\n",
    "\n",
    "check_missing_values(selected_features_df1)"
   ]
  },
  {
   "cell_type": "markdown",
   "id": "367a6890",
   "metadata": {},
   "source": [
    "Checking for missing values is a fundamental step in data analysis that serves multiple purposes. It ensures the integrity and accuracy of the dataset by identifying any gaps or inconsistencies in the data. Addressing missing values is essential to prevent bias and ensure the validity of analysis results. Additionally, many statistical techniques and machine learning algorithms require complete datasets, making it necessary to handle missing values appropriately before applying these methods. By identifying missing values early in the analysis process, data scientists can employ various imputation techniques or data preprocessing strategies to fill in missing values or mitigate their impact on subsequent analyses. Ultimately, thorough consideration of missing values contributes to more robust and reliable data analysis outcomes."
   ]
  },
  {
   "cell_type": "code",
   "execution_count": 21,
   "id": "e87d3cd2-cbf4-4141-92dd-22f7ac09d3d1",
   "metadata": {},
   "outputs": [
    {
     "data": {
      "text/html": [
       "<div>\n",
       "<style scoped>\n",
       "    .dataframe tbody tr th:only-of-type {\n",
       "        vertical-align: middle;\n",
       "    }\n",
       "\n",
       "    .dataframe tbody tr th {\n",
       "        vertical-align: top;\n",
       "    }\n",
       "\n",
       "    .dataframe thead th {\n",
       "        text-align: right;\n",
       "    }\n",
       "</style>\n",
       "<table border=\"1\" class=\"dataframe\">\n",
       "  <thead>\n",
       "    <tr style=\"text-align: right;\">\n",
       "      <th></th>\n",
       "      <th>Event_Clicks</th>\n",
       "      <th>Media_Clicks</th>\n",
       "      <th>Directory_Clicks</th>\n",
       "      <th>Days_Logged_In</th>\n",
       "    </tr>\n",
       "  </thead>\n",
       "  <tbody>\n",
       "    <tr>\n",
       "      <th>count</th>\n",
       "      <td>1916.000000</td>\n",
       "      <td>1916.000000</td>\n",
       "      <td>403.000000</td>\n",
       "      <td>1916.000000</td>\n",
       "    </tr>\n",
       "    <tr>\n",
       "      <th>mean</th>\n",
       "      <td>12.124739</td>\n",
       "      <td>18.578288</td>\n",
       "      <td>4.213400</td>\n",
       "      <td>55.069937</td>\n",
       "    </tr>\n",
       "    <tr>\n",
       "      <th>std</th>\n",
       "      <td>11.099577</td>\n",
       "      <td>14.629047</td>\n",
       "      <td>3.701434</td>\n",
       "      <td>31.608065</td>\n",
       "    </tr>\n",
       "    <tr>\n",
       "      <th>min</th>\n",
       "      <td>0.000000</td>\n",
       "      <td>0.000000</td>\n",
       "      <td>0.000000</td>\n",
       "      <td>1.000000</td>\n",
       "    </tr>\n",
       "    <tr>\n",
       "      <th>25%</th>\n",
       "      <td>2.000000</td>\n",
       "      <td>6.750000</td>\n",
       "      <td>1.000000</td>\n",
       "      <td>28.000000</td>\n",
       "    </tr>\n",
       "    <tr>\n",
       "      <th>50%</th>\n",
       "      <td>9.500000</td>\n",
       "      <td>15.000000</td>\n",
       "      <td>3.000000</td>\n",
       "      <td>55.000000</td>\n",
       "    </tr>\n",
       "    <tr>\n",
       "      <th>75%</th>\n",
       "      <td>20.000000</td>\n",
       "      <td>28.000000</td>\n",
       "      <td>6.000000</td>\n",
       "      <td>83.000000</td>\n",
       "    </tr>\n",
       "    <tr>\n",
       "      <th>max</th>\n",
       "      <td>45.000000</td>\n",
       "      <td>60.000000</td>\n",
       "      <td>15.000000</td>\n",
       "      <td>113.000000</td>\n",
       "    </tr>\n",
       "  </tbody>\n",
       "</table>\n",
       "</div>"
      ],
      "text/plain": [
       "       Event_Clicks  Media_Clicks  Directory_Clicks  Days_Logged_In\n",
       "count   1916.000000   1916.000000        403.000000     1916.000000\n",
       "mean      12.124739     18.578288          4.213400       55.069937\n",
       "std       11.099577     14.629047          3.701434       31.608065\n",
       "min        0.000000      0.000000          0.000000        1.000000\n",
       "25%        2.000000      6.750000          1.000000       28.000000\n",
       "50%        9.500000     15.000000          3.000000       55.000000\n",
       "75%       20.000000     28.000000          6.000000       83.000000\n",
       "max       45.000000     60.000000         15.000000      113.000000"
      ]
     },
     "execution_count": 21,
     "metadata": {},
     "output_type": "execute_result"
    }
   ],
   "source": [
    "summary_statistics = selected_features_df1.describe()\n",
    "summary_statistics"
   ]
  },
  {
   "cell_type": "markdown",
   "id": "eefe7ccc",
   "metadata": {},
   "source": [
    "Analyzing summary statistics can help identify outliers, understand the spread of the data, and gain initial insights into its characteristics. These summary statistics serve as a foundation for further exploratory data analysis and modeling tasks, guiding researchers in understanding the dataset's structure and informing subsequent analytical decisions."
   ]
  },
  {
   "cell_type": "markdown",
   "id": "339965a0",
   "metadata": {},
   "source": [
    "The summary statistics reveal the distribution and central tendency of numerical features in the dataset. The mean number of clicks for 'Event_Clicks' is 16.20, with a standard deviation of 11.53, indicating a wide dispersion of data, with a range of 0 to 45. The mean number of clicks for 'Media_Clicks' is 6.10, with a standard deviation of 7.25, indicating lower average engagement with media compared to events. The mean number of clicks for 'Directory_Clicks' is 7.04, suggesting moderate engagement with the directory feature. The mean number of logged-in days is 55.07, with a standard deviation of 31.61, indicating frequent logging in but some variability in usage duration. These statistics offer a comprehensive understanding of usage patterns within the Bloc app, highlighting varying levels of engagement across different features and the distribution of user activity over time."
   ]
  },
  {
   "cell_type": "markdown",
   "id": "43098c4c",
   "metadata": {},
   "source": [
    "For instance, when comparing the click counts of different features, such as events and directory listings, understanding their respective standard deviations enables us to contextualize the significance of the differences observed. For example, if one event receives 12 more clicks than another event, and this variance is 1 standard deviation, it suggests a moderate difference. Conversely, if the directory receives 12 more clicks, and this variance represents 2 standard deviations, it indicates a more substantial difference in engagement levels. By leveraging summary statistics, we can effectively interpret and compare the significance of changes across different features within the dataset."
   ]
  },
  {
   "cell_type": "code",
   "execution_count": 6,
   "id": "d16bf6a9-2719-4dc0-a50f-da74d83fa48c",
   "metadata": {},
   "outputs": [
    {
     "data": {
      "text/html": [
       "<div>\n",
       "<style scoped>\n",
       "    .dataframe tbody tr th:only-of-type {\n",
       "        vertical-align: middle;\n",
       "    }\n",
       "\n",
       "    .dataframe tbody tr th {\n",
       "        vertical-align: top;\n",
       "    }\n",
       "\n",
       "    .dataframe thead th {\n",
       "        text-align: right;\n",
       "    }\n",
       "</style>\n",
       "<table border=\"1\" class=\"dataframe\">\n",
       "  <thead>\n",
       "    <tr style=\"text-align: right;\">\n",
       "      <th></th>\n",
       "      <th>School</th>\n",
       "      <th>Total_Users</th>\n",
       "      <th>Event_Clicks_Sum</th>\n",
       "      <th>Media_Clicks_Sum</th>\n",
       "      <th>Directory_Clicks_Sum</th>\n",
       "      <th>Event_Clicks_Mean</th>\n",
       "      <th>Media_Clicks_Mean</th>\n",
       "      <th>Directory_Clicks_Mean</th>\n",
       "      <th>Days_Logged_In_Sum</th>\n",
       "      <th>Days_Logged_In_Mean</th>\n",
       "    </tr>\n",
       "  </thead>\n",
       "  <tbody>\n",
       "    <tr>\n",
       "      <th>0</th>\n",
       "      <td>Incarnate Word Academy - St. Louis, MO</td>\n",
       "      <td>403</td>\n",
       "      <td>4662</td>\n",
       "      <td>5392</td>\n",
       "      <td>1698</td>\n",
       "      <td>11.568238</td>\n",
       "      <td>13.379653</td>\n",
       "      <td>4.213400</td>\n",
       "      <td>19484</td>\n",
       "      <td>48.347395</td>\n",
       "    </tr>\n",
       "    <tr>\n",
       "      <th>1</th>\n",
       "      <td>Nerinx Hall - St. Louis, MO</td>\n",
       "      <td>824</td>\n",
       "      <td>14599</td>\n",
       "      <td>3309</td>\n",
       "      <td>6334</td>\n",
       "      <td>17.717233</td>\n",
       "      <td>4.015777</td>\n",
       "      <td>7.686893</td>\n",
       "      <td>47582</td>\n",
       "      <td>57.745146</td>\n",
       "    </tr>\n",
       "    <tr>\n",
       "      <th>2</th>\n",
       "      <td>St. Joseph's Academy - St. Louis, MO</td>\n",
       "      <td>689</td>\n",
       "      <td>11787</td>\n",
       "      <td>2995</td>\n",
       "      <td>5465</td>\n",
       "      <td>17.107402</td>\n",
       "      <td>4.346880</td>\n",
       "      <td>7.931785</td>\n",
       "      <td>38448</td>\n",
       "      <td>55.802612</td>\n",
       "    </tr>\n",
       "  </tbody>\n",
       "</table>\n",
       "</div>"
      ],
      "text/plain": [
       "                                   School  Total_Users  Event_Clicks_Sum  \\\n",
       "0  Incarnate Word Academy - St. Louis, MO          403              4662   \n",
       "1             Nerinx Hall - St. Louis, MO          824             14599   \n",
       "2    St. Joseph's Academy - St. Louis, MO          689             11787   \n",
       "\n",
       "   Media_Clicks_Sum  Directory_Clicks_Sum  Event_Clicks_Mean  \\\n",
       "0              5392                  1698          11.568238   \n",
       "1              3309                  6334          17.717233   \n",
       "2              2995                  5465          17.107402   \n",
       "\n",
       "   Media_Clicks_Mean  Directory_Clicks_Mean  Days_Logged_In_Sum  \\\n",
       "0          13.379653               4.213400               19484   \n",
       "1           4.015777               7.686893               47582   \n",
       "2           4.346880               7.931785               38448   \n",
       "\n",
       "   Days_Logged_In_Mean  \n",
       "0            48.347395  \n",
       "1            57.745146  \n",
       "2            55.802612  "
      ]
     },
     "execution_count": 6,
     "metadata": {},
     "output_type": "execute_result"
    }
   ],
   "source": [
    "# Total number of users per school\n",
    "users_per_school = selected_features_df1.groupby('School')['User_ID'].nunique().reset_index()\n",
    "users_per_school.columns = ['School', 'Total_Users']\n",
    "\n",
    "# Sum and average clicks for each feature per school\n",
    "clicks_per_feature_sum = selected_features_df1.groupby('School')[['Event_Clicks', 'Media_Clicks', 'Directory_Clicks']].sum().reset_index()\n",
    "clicks_per_feature_mean = selected_features_df1.groupby('School')[['Event_Clicks', 'Media_Clicks', 'Directory_Clicks']].mean().reset_index()\n",
    "\n",
    "# Total and average days logged in per school\n",
    "days_logged_in_sum = selected_features_df1.groupby('School')['Days_Logged_In'].sum().reset_index()\n",
    "days_logged_in_mean = selected_features_df1.groupby('School')['Days_Logged_In'].mean().reset_index()\n",
    "\n",
    "# Merge results into a single DataFrame\n",
    "result_df = pd.merge(users_per_school, clicks_per_feature_sum, on='School')\n",
    "result_df = pd.merge(result_df, clicks_per_feature_mean, on='School')\n",
    "result_df = pd.merge(result_df, days_logged_in_sum, on='School')\n",
    "result_df = pd.merge(result_df, days_logged_in_mean, on='School')\n",
    "\n",
    "result_df.columns = ['School', 'Total_Users', 'Event_Clicks_Sum', 'Media_Clicks_Sum', 'Directory_Clicks_Sum', 'Event_Clicks_Mean', 'Media_Clicks_Mean', 'Directory_Clicks_Mean', 'Days_Logged_In_Sum', 'Days_Logged_In_Mean']\n",
    "\n",
    "result_df"
   ]
  },
  {
   "cell_type": "markdown",
   "id": "89fa92de",
   "metadata": {},
   "source": [
    "The gathered information offers an examination of user involvement among three of the most notable schools in St. Louis, Missouri: Incarnate Word Institute, Nerinx Anteroom, and St. Joseph's Establishment. With 403 users, Incarnate Word Establishment shows an unobtrusive level of activity. Every person has around 11.57 event clicks, 13.38 media hits, and 4.21 directory clicks. These aggregates amount to 19,484 logged-in days, with an average of 48.35 days per user. Then again, Nerinx Entryway has 824 users, indicating a more prominent level of active involvement. Every user has an average of 17.72 event clicks, 4.02 media hits, and 7.69 directory clicks, adding up to 47,582 logged-in days with an average of 57.75 days per user. Moreover, with 689 users, St. Joseph's Establishment offers critical user support. This is like Nerinx Entryway concerning engagement, with every user averaging 17.11 event clicks, 4.35 media clicks, and 7.93 directory clicks. These clicks amount to 38,448 logged-in days, or 55.80 days per user. These synopses feature unobtrusive contrasts in how users behave and interact with the instructive institutions, which relate to various levels of local area involvement and utilization of the Bloc application."
   ]
  },
  {
   "cell_type": "markdown",
   "id": "9f8df5f3",
   "metadata": {},
   "source": [
    "By displaying the total number of users per school, it provides insights into the size of each school's user base. Additionally, the total and average clicks for different app features, such as events, media, and directory listings, offer a nuanced understanding of user interaction preferences within each school community. Furthermore, the metrics on total and average days logged in per school shed light on the frequency and consistency of app usage among users."
   ]
  },
  {
   "cell_type": "markdown",
   "id": "32c104b8",
   "metadata": {},
   "source": [
    "By displaying this information in a consolidated format we are able to do a comparative analysis between schools, revealing trends, patterns, and disparities in app engagement and utilization. For instance we can see that Nerinx Hall, and St. Joseph's average event, media, and directory clicks are roughly the same event with a 135 student difference. We can hypothesis from this that these schools host realtivly the same events that bring tracksion. We can also hypothesis that IWA does not host the event/events that these schools host. We will be checking these hypothesis later in the notebook when we look into the most popular events at each school. "
   ]
  },
  {
   "cell_type": "markdown",
   "id": "541a9ce8-b817-4aea-8cfd-8abf66b76088",
   "metadata": {},
   "source": [
    "## Exploratory Data Analysis "
   ]
  },
  {
   "cell_type": "code",
   "execution_count": 7,
   "id": "7f3c28bf-267a-41fd-a757-f1c645ab3d79",
   "metadata": {},
   "outputs": [
    {
     "data": {
      "image/png": "[encoded data removed]",
      "text/plain": [
       "<Figure size 432x576 with 1 Axes>"
      ]
     },
     "metadata": {},
     "output_type": "display_data"
    }
   ],
   "source": [
    "wrapped_labels = ['\\n'.join(wrap(label, 20)) for label in result_df['School']]\n",
    "\n",
    "# Create a pie chart for total users per school with wrapped labels\n",
    "plt.figure(figsize=(6, 8))\n",
    "plt.pie(result_df['Total_Users'], labels=wrapped_labels, autopct='%1.1f%%', startangle=140)\n",
    "plt.title('Distribution of Total Users per School')\n",
    "plt.legend(wrapped_labels, loc='upper right', fontsize=8)  # Legend with wrapped labels\n",
    "plt.axis('equal')\n",
    "plt.tight_layout()\n",
    "plt.show()"
   ]
  },
  {
   "cell_type": "markdown",
   "id": "0c2a5d90",
   "metadata": {},
   "source": [
    "We started by exploring the data. First we wanted to see the total distribution of users per school. IWA was 21%, St. Josephs is 36%, and Nerinx hall is 43%. It is important to know the distribution of users between the three schools because we wanted to choose schools that are in the small, medium and large stage. It can also help us later to know which schools get the most engangement per how big of a school they are. If both IWA and Nerinx hall have the same number of media clicks, we will know that the media is more popular at IWA."
   ]
  },
  {
   "cell_type": "code",
   "execution_count": 8,
   "id": "83431057-1a29-45d3-ad97-3b8370356594",
   "metadata": {},
   "outputs": [
    {
     "data": {
      "image/png": "[encoded data removed]",
      "text/plain": [
       "<Figure size 432x432 with 1 Axes>"
      ]
     },
     "metadata": {
      "needs_background": "light"
     },
     "output_type": "display_data"
    },
    {
     "data": {
      "image/png": "[encoded data removed]",
      "text/plain": [
       "<Figure size 432x432 with 1 Axes>"
      ]
     },
     "metadata": {
      "needs_background": "light"
     },
     "output_type": "display_data"
    }
   ],
   "source": [
    "# Engagement Analysis:\n",
    "event_clicks_distribution = selected_features_df1['Event_Clicks'].value_counts()\n",
    "days_logged_in_distribution = selected_features_df1['Days_Logged_In'].value_counts()\n",
    "\n",
    "# Visualize event clicks distribution\n",
    "plt.figure(figsize=(6, 6))\n",
    "plt.hist(selected_features_df1['Event_Clicks'], bins=20, color='skyblue')\n",
    "plt.xlabel('Event Clicks')\n",
    "plt.ylabel('Count')\n",
    "plt.title('Event Clicks Distribution')\n",
    "plt.show()\n",
    "\n",
    "# Visualize days logged in distribution\n",
    "plt.figure(figsize=(6, 6))\n",
    "plt.hist(selected_features_df1['Days_Logged_In'], bins=20, color='lightgreen')\n",
    "plt.xlabel('Days Logged In')\n",
    "plt.ylabel('Count')\n",
    "plt.title('Days Logged In Distribution')\n",
    "plt.show()"
   ]
  },
  {
   "cell_type": "markdown",
   "id": "bb64ac6e",
   "metadata": {},
   "source": [
    "The Even clicks Distribution graph shows us that most events will get 0-10 clicks. The graph starts high and slowly tapers off towards the end. This tells us there are very few events that get 40 or more clicks. This information is useful to us because we now know their are not many events that are super popular. We can look at those events and look for corelations between the most popular events, so that we can continue to do those events. We can also see that there are many events that get 0-5 clicks. We can look through these events to see which events we want to continue doing and which events are not worth doing because of the low engagement.\n",
    "\n",
    "We compare this with the Days logged in Distribution to visual see if the reason that some events are more popular than other is because they happen to be logged in at the time. The Graph show us that users are logged in until the last 20 days of the semester. With lots of people looking to go to events from days 30-40, and 85-95. This gives us good knowledge as we can look to schedule events during that time for the most engagement."
   ]
  },
  {
   "cell_type": "code",
   "execution_count": 9,
   "id": "070e1f55-192e-48b2-8286-7b031200f2b5",
   "metadata": {},
   "outputs": [
    {
     "data": {
      "image/png": "[encoded data removed]",
      "text/plain": [
       "<Figure size 720x432 with 1 Axes>"
      ]
     },
     "metadata": {
      "needs_background": "light"
     },
     "output_type": "display_data"
    },
    {
     "data": {
      "image/png": "[encoded data removed]",
      "text/plain": [
       "<Figure size 720x432 with 1 Axes>"
      ]
     },
     "metadata": {
      "needs_background": "light"
     },
     "output_type": "display_data"
    }
   ],
   "source": [
    "# School-Specific Analysis:\n",
    "school_event_clicks_mean = selected_features_df1.groupby('School')['Event_Clicks'].mean()\n",
    "school_days_logged_in_mean = selected_features_df1.groupby('School')['Days_Logged_In'].mean()\n",
    "\n",
    "# Visualize school-specific analysis with wrapped labels\n",
    "plt.figure(figsize=(10, 6))\n",
    "plt.bar(school_event_clicks_mean.index, school_event_clicks_mean.values, color='skyblue')\n",
    "plt.xlabel('School')\n",
    "plt.ylabel('Mean Event Clicks')\n",
    "plt.title('Mean Event Clicks per School')\n",
    "wrapped_labels = ['\\n'.join(wrap(label, 20)) for label in school_event_clicks_mean.index]\n",
    "plt.xticks(range(len(school_event_clicks_mean.index)), wrapped_labels, rotation=1, ha='right')\n",
    "plt.tight_layout()\n",
    "plt.show()\n",
    "\n",
    "plt.figure(figsize=(10, 6))\n",
    "plt.bar(school_days_logged_in_mean.index, school_days_logged_in_mean.values, color='lightgreen')\n",
    "plt.xlabel('School')\n",
    "plt.ylabel('Mean Days Logged In')\n",
    "plt.title('Mean Days Logged In per School')\n",
    "wrapped_labels = ['\\n'.join(wrap(label, 20)) for label in school_days_logged_in_mean.index]\n",
    "plt.xticks(range(len(school_days_logged_in_mean.index)), wrapped_labels, rotation=1, ha='right')\n",
    "plt.tight_layout()\n",
    "plt.show()"
   ]
  },
  {
   "cell_type": "markdown",
   "id": "3d5c6ffe",
   "metadata": {},
   "source": [
    "We then looked at the Event clicks per School and the Days loged in per school to see the correlation between the specific school, how many days people are logged in, and how many event clicks the schools gets per day. This visually shows us that there is a linear correlations with the average days logged it and the average amount of clicks each event gets. This tells us that inorder to get more engagement/clicks we need to increase the average amount of days logged in."
   ]
  },
  {
   "cell_type": "code",
   "execution_count": 10,
   "id": "d752acac-0dcb-48c7-b543-af14d6c3954a",
   "metadata": {},
   "outputs": [
    {
     "data": {
      "image/png": "[encoded data removed]",
      "text/plain": [
       "<Figure size 720x432 with 1 Axes>"
      ]
     },
     "metadata": {
      "needs_background": "light"
     },
     "output_type": "display_data"
    },
    {
     "data": {
      "image/png": "[encoded data removed]",
      "text/plain": [
       "<Figure size 720x432 with 1 Axes>"
      ]
     },
     "metadata": {
      "needs_background": "light"
     },
     "output_type": "display_data"
    },
    {
     "data": {
      "image/png": "[encoded data removed]",
      "text/plain": [
       "<Figure size 720x432 with 1 Axes>"
      ]
     },
     "metadata": {
      "needs_background": "light"
     },
     "output_type": "display_data"
    }
   ],
   "source": [
    "# Engagement Analysis:\n",
    "engagement_by_identity_group = selected_features_df1.groupby(['School', 'Identification']).agg({\n",
    "    'Event_Clicks': 'mean',\n",
    "    'Days_Logged_In': 'mean'\n",
    "}).reset_index()\n",
    "\n",
    "# Define colors for each metric\n",
    "event_clicks_color = 'black'\n",
    "days_logged_in_color = 'purple'\n",
    "\n",
    "# Visualize the engagement metrics by identity group within each school\n",
    "for school in engagement_by_identity_group['School'].unique():\n",
    "    school_data = engagement_by_identity_group[engagement_by_identity_group['School'] == school]\n",
    "    plt.figure(figsize=(10, 6))\n",
    "    plt.bar(school_data['Identification'], school_data['Event_Clicks'], color=event_clicks_color, label='Event Clicks')\n",
    "    plt.bar(school_data['Identification'], school_data['Days_Logged_In'], color=days_logged_in_color, alpha=0.7, label='Days Logged In')\n",
    "    plt.xlabel('Identification Group')\n",
    "    plt.ylabel('Mean Metrics')\n",
    "    plt.title(f'Engagement Metrics by Identification Group in {school}')\n",
    "    plt.xticks(rotation=45)\n",
    "    plt.legend()\n",
    "    plt.tight_layout()\n",
    "    plt.show()"
   ]
  },
  {
   "cell_type": "markdown",
   "id": "073c8a2b",
   "metadata": {},
   "source": [
    "We then wanted to see the correlation between Event clicks and Days logged in per school per each identification group. We wanted to see this distribution because then we can see which group of users is engaged the most. This will help us know if our posts are more catterd towards one identification group or if we are completely missing our target group. These graph show us that at all three schools the amount of event clicks per identification group is roughly the same. Where there is some deviation is total days logged in but they also are all relativly the same. "
   ]
  },
  {
   "cell_type": "markdown",
   "id": "83148756",
   "metadata": {},
   "source": []
  },
  {
   "cell_type": "code",
   "execution_count": 11,
   "id": "c1d7b6b9-3624-4667-a0bc-7b6bad428a72",
   "metadata": {},
   "outputs": [
    {
     "data": {
      "image/png": "[encoded data removed]",
      "text/plain": [
       "<Figure size 576x432 with 2 Axes>"
      ]
     },
     "metadata": {
      "needs_background": "light"
     },
     "output_type": "display_data"
    }
   ],
   "source": [
    "# Select numeric columns\n",
    "numeric_columns = selected_features_df1.select_dtypes(include=np.number)\n",
    "correlation_matrix = numeric_columns.corr()\n",
    "correlation_matrix\n",
    "\n",
    "# Plot the heatmap\n",
    "plt.figure(figsize=(8, 6))\n",
    "sns.heatmap(correlation_matrix, annot=True, cmap='coolwarm', fmt=\".2f\")\n",
    "plt.title('Correlation Heatmap of Selected Features')\n",
    "plt.tight_layout()\n",
    "plt.show()"
   ]
  },
  {
   "cell_type": "markdown",
   "id": "e4ef8555",
   "metadata": {},
   "source": [
    "We then created a correlation heat map of our selected features. This will show us if the data points to any features being correlated together. The two features with a high correlation is the Event clicks and the Days logged in. This suggests that the users who interact with event more often will also tend to spend more time logged in. This tells us that the best way to increase event clicks is to get user on the app more."
   ]
  },
  {
   "cell_type": "code",
   "execution_count": 12,
   "id": "18aedb53-423c-4c5d-8ba1-c479d1dc3e0d",
   "metadata": {},
   "outputs": [
    {
     "data": {
      "text/html": [
       "<div>\n",
       "<style scoped>\n",
       "    .dataframe tbody tr th:only-of-type {\n",
       "        vertical-align: middle;\n",
       "    }\n",
       "\n",
       "    .dataframe tbody tr th {\n",
       "        vertical-align: top;\n",
       "    }\n",
       "\n",
       "    .dataframe thead th {\n",
       "        text-align: right;\n",
       "    }\n",
       "</style>\n",
       "<table border=\"1\" class=\"dataframe\">\n",
       "  <thead>\n",
       "    <tr style=\"text-align: right;\">\n",
       "      <th></th>\n",
       "      <th>Event_Clicks</th>\n",
       "      <th>Media_Clicks</th>\n",
       "      <th>Directory_Clicks</th>\n",
       "      <th>Days_Logged_In</th>\n",
       "    </tr>\n",
       "  </thead>\n",
       "  <tbody>\n",
       "    <tr>\n",
       "      <th>Event_Clicks</th>\n",
       "      <td>1.000000</td>\n",
       "      <td>-0.016103</td>\n",
       "      <td>0.086211</td>\n",
       "      <td>0.759787</td>\n",
       "    </tr>\n",
       "    <tr>\n",
       "      <th>Media_Clicks</th>\n",
       "      <td>-0.016103</td>\n",
       "      <td>1.000000</td>\n",
       "      <td>0.053638</td>\n",
       "      <td>0.108185</td>\n",
       "    </tr>\n",
       "    <tr>\n",
       "      <th>Directory_Clicks</th>\n",
       "      <td>0.086211</td>\n",
       "      <td>0.053638</td>\n",
       "      <td>1.000000</td>\n",
       "      <td>0.071162</td>\n",
       "    </tr>\n",
       "    <tr>\n",
       "      <th>Days_Logged_In</th>\n",
       "      <td>0.759787</td>\n",
       "      <td>0.108185</td>\n",
       "      <td>0.071162</td>\n",
       "      <td>1.000000</td>\n",
       "    </tr>\n",
       "  </tbody>\n",
       "</table>\n",
       "</div>"
      ],
      "text/plain": [
       "                  Event_Clicks  Media_Clicks  Directory_Clicks  Days_Logged_In\n",
       "Event_Clicks          1.000000     -0.016103          0.086211        0.759787\n",
       "Media_Clicks         -0.016103      1.000000          0.053638        0.108185\n",
       "Directory_Clicks      0.086211      0.053638          1.000000        0.071162\n",
       "Days_Logged_In        0.759787      0.108185          0.071162        1.000000"
      ]
     },
     "execution_count": 12,
     "metadata": {},
     "output_type": "execute_result"
    }
   ],
   "source": [
    "correlation_matrix"
   ]
  },
  {
   "cell_type": "markdown",
   "id": "dd124d1a",
   "metadata": {},
   "source": [
    "The connections between the different engagement measurements in the dataset are shown by the association heatmap. Surprisingly, there exists a positive connection (0.76) between \"Event Clicks\" and \"Days Logged In,\" suggesting that individuals who interact with events more often will also tend to spend more time logged in. On the other hand, there is an impression of being less consistency in the link between \"Media Clicks\" and the various measurements, indicating a weaker relationship. Moreover, \"Directory Clicks\" have little relationship with other measurements, suggesting that users' interactions with directory-related items might be inconsequential to their interactions with media or events. As a rule, the heatmap assists with analyzing user activity within the platform by offering insights into the interactions between various engagement measurements."
   ]
  },
  {
   "cell_type": "markdown",
   "id": "afdf0bb7",
   "metadata": {},
   "source": [
    "----------------------------------------------------------------------------------------------------------------------------------------------------------------"
   ]
  },
  {
   "cell_type": "markdown",
   "id": "b4075a49-1cde-4372-b433-051c99c2cab6",
   "metadata": {},
   "source": [
    "## Events"
   ]
  },
  {
   "cell_type": "code",
   "execution_count": 13,
   "id": "03034101-21a5-40b9-87e3-b9d9967db4f7",
   "metadata": {},
   "outputs": [
    {
     "data": {
      "text/html": [
       "<div>\n",
       "<style scoped>\n",
       "    .dataframe tbody tr th:only-of-type {\n",
       "        vertical-align: middle;\n",
       "    }\n",
       "\n",
       "    .dataframe tbody tr th {\n",
       "        vertical-align: top;\n",
       "    }\n",
       "\n",
       "    .dataframe thead th {\n",
       "        text-align: right;\n",
       "    }\n",
       "</style>\n",
       "<table border=\"1\" class=\"dataframe\">\n",
       "  <thead>\n",
       "    <tr style=\"text-align: right;\">\n",
       "      <th></th>\n",
       "      <th>Name</th>\n",
       "      <th>School</th>\n",
       "      <th>Location</th>\n",
       "      <th>Clicks</th>\n",
       "      <th>Created By</th>\n",
       "    </tr>\n",
       "  </thead>\n",
       "  <tbody>\n",
       "    <tr>\n",
       "      <th>0</th>\n",
       "      <td>Faculty &amp; Staff Retreat</td>\n",
       "      <td>Incarnate Word Academy - St. Louis, MO</td>\n",
       "      <td>Pallottine Renewal Center</td>\n",
       "      <td>4</td>\n",
       "      <td>Incarnate Word Academy</td>\n",
       "    </tr>\n",
       "    <tr>\n",
       "      <th>1</th>\n",
       "      <td>Freshman Volleyball vs. Laffayette High School</td>\n",
       "      <td>Incarnate Word Academy - St. Louis, MO</td>\n",
       "      <td>Incarnate Word Academy Gym</td>\n",
       "      <td>7</td>\n",
       "      <td>IWA Athletics</td>\n",
       "    </tr>\n",
       "    <tr>\n",
       "      <th>2</th>\n",
       "      <td>Freshman Volleyball vs. Pattonville</td>\n",
       "      <td>Incarnate Word Academy - St. Louis, MO</td>\n",
       "      <td>Incarnate Word Academy Gym</td>\n",
       "      <td>3</td>\n",
       "      <td>IWA Athletics</td>\n",
       "    </tr>\n",
       "    <tr>\n",
       "      <th>3</th>\n",
       "      <td>IWA Feast Day Holy Week Mass - Liturgy Schedule</td>\n",
       "      <td>Incarnate Word Academy - St. Louis, MO</td>\n",
       "      <td>2788 Normandy Drive 63121</td>\n",
       "      <td>14</td>\n",
       "      <td>Incarnate Word Academy</td>\n",
       "    </tr>\n",
       "    <tr>\n",
       "      <th>4</th>\n",
       "      <td>No School - Faculty and Staff Retreat</td>\n",
       "      <td>Incarnate Word Academy - St. Louis, MO</td>\n",
       "      <td>2788 Normandy Drive 63121</td>\n",
       "      <td>18</td>\n",
       "      <td>Incarnate Word Academy</td>\n",
       "    </tr>\n",
       "  </tbody>\n",
       "</table>\n",
       "</div>"
      ],
      "text/plain": [
       "                                              Name  \\\n",
       "0                          Faculty & Staff Retreat   \n",
       "1   Freshman Volleyball vs. Laffayette High School   \n",
       "2              Freshman Volleyball vs. Pattonville   \n",
       "3  IWA Feast Day Holy Week Mass - Liturgy Schedule   \n",
       "4            No School - Faculty and Staff Retreat   \n",
       "\n",
       "                                   School                    Location  Clicks  \\\n",
       "0  Incarnate Word Academy - St. Louis, MO   Pallottine Renewal Center       4   \n",
       "1  Incarnate Word Academy - St. Louis, MO  Incarnate Word Academy Gym       7   \n",
       "2  Incarnate Word Academy - St. Louis, MO  Incarnate Word Academy Gym       3   \n",
       "3  Incarnate Word Academy - St. Louis, MO   2788 Normandy Drive 63121      14   \n",
       "4  Incarnate Word Academy - St. Louis, MO   2788 Normandy Drive 63121      18   \n",
       "\n",
       "               Created By  \n",
       "0  Incarnate Word Academy  \n",
       "1           IWA Athletics  \n",
       "2           IWA Athletics  \n",
       "3  Incarnate Word Academy  \n",
       "4  Incarnate Word Academy  "
      ]
     },
     "execution_count": 13,
     "metadata": {},
     "output_type": "execute_result"
    }
   ],
   "source": [
    "# Selecting important features\n",
    "selected_features_df2 = df2[['Name', 'School', 'Location', 'Clicks', 'Created By']]\n",
    "selected_features_df2.head()"
   ]
  },
  {
   "cell_type": "markdown",
   "id": "59ec025a",
   "metadata": {},
   "source": [
    "These chosen features serve as key indicators of user interest and interaction levels, offering valuable quantitative metrics through attributes like click counts. Additionally, features like school and location aids in understanding regional or institution-specific preferences. Moreover, the inclusion of the 'Created By' feature enables insights into event ownership. "
   ]
  },
  {
   "cell_type": "code",
   "execution_count": 14,
   "id": "c1b7679f-e7eb-470a-b7c6-99d713bb15f4",
   "metadata": {},
   "outputs": [
    {
     "name": "stdout",
     "output_type": "stream",
     "text": [
      "Total events per school:\n",
      "+----+----------------------------------------+----------------+\n",
      "|    | School                                 |   Total Events |\n",
      "+====+========================================+================+\n",
      "|  0 | Nerinx Hall - St. Louis, MO            |            477 |\n",
      "+----+----------------------------------------+----------------+\n",
      "|  1 | St. Joseph's Academy - St. Louis, MO   |            456 |\n",
      "+----+----------------------------------------+----------------+\n",
      "|  2 | Incarnate Word Academy - St. Louis, MO |            293 |\n",
      "+----+----------------------------------------+----------------+\n",
      "\n",
      "Average clicks per event per school:\n",
      "+----+----------------------------------------+----------------------------+\n",
      "|    | School                                 |   Average Clicks per Event |\n",
      "+====+========================================+============================+\n",
      "|  0 | Incarnate Word Academy - St. Louis, MO |                    15.9113 |\n",
      "+----+----------------------------------------+----------------------------+\n",
      "|  1 | Nerinx Hall - St. Louis, MO            |                    31.4444 |\n",
      "+----+----------------------------------------+----------------------------+\n",
      "|  2 | St. Joseph's Academy - St. Louis, MO   |                    25.8487 |\n",
      "+----+----------------------------------------+----------------------------+\n",
      "\n",
      "Most popular events per school:\n",
      "+-----+-------------------------------------------+----------------------------------------+------------------------+----------+---------------+\n",
      "|     | Name                                      | School                                 | Location               |   Clicks | Created By    |\n",
      "+=====+===========================================+========================================+========================+==========+===============+\n",
      "| 139 | 2023 Girls Basketball District Tournament | Incarnate Word Academy - St. Louis, MO | Incarnate Word Academy |       43 | IWA Athletics |\n",
      "+-----+-------------------------------------------+----------------------------------------+------------------------+----------+---------------+\n",
      "| 723 | Fall Musical                              | Nerinx Hall - St. Louis, MO            | Nerinx                 |      164 | Nerinx        |\n",
      "+-----+-------------------------------------------+----------------------------------------+------------------------+----------+---------------+\n",
      "| 770 | Fall Ball                                 | St. Joseph's Academy - St. Louis, MO   | St. Joseph's Academy   |      152 | SJA           |\n",
      "+-----+-------------------------------------------+----------------------------------------+------------------------+----------+---------------+\n"
     ]
    }
   ],
   "source": [
    "# Calculate and print total events per school\n",
    "total_events_per_school = selected_features_df2['School'].value_counts().reset_index()\n",
    "total_events_per_school.columns = ['School', 'Total Events']\n",
    "\n",
    "# Calculate and print average clicks per event per school\n",
    "average_clicks_per_event = selected_features_df2.groupby('School')['Clicks'].mean().reset_index()\n",
    "average_clicks_per_event.columns = ['School', 'Average Clicks per Event']\n",
    "\n",
    "# Calculate and print most popular events per school\n",
    "most_popular_events_per_school = selected_features_df2.loc[selected_features_df2.groupby('School')['Clicks'].idxmax()]\n",
    "\n",
    "# Print tables\n",
    "print(\"Total events per school:\")\n",
    "print(tabulate(total_events_per_school, headers='keys', tablefmt='grid'))\n",
    "\n",
    "print(\"\\nAverage clicks per event per school:\")\n",
    "print(tabulate(average_clicks_per_event, headers='keys', tablefmt='grid'))\n",
    "\n",
    "print(\"\\nMost popular events per school:\")\n",
    "print(tabulate(most_popular_events_per_school, headers='keys', tablefmt='grid'))"
   ]
  },
  {
   "cell_type": "markdown",
   "id": "9596ec4b",
   "metadata": {},
   "source": [
    "First, we calculate the total number of events organized by each school, providing insights into the distribution of events across the different schools. Next, it computes the average number of clicks per event for each school, offering a measure of engagement and interest levels across different events. Additionally, the code identifies the most popular event within each school based on the highest number of clicks, highlighting noteworthy activities that garner significant attention from users. By organizing this information into clear and concise tables, the code enables us to gain a comprehensive understanding of event dynamics, engagement patterns, and preferences within various school settings. The amount of clicks on each of the events tells us that IWA does not do a really popular event like the other two schools. We can then use this information to suggest to another school looking to use bloc that the fall musical, and the fall social are popular events at two other schools with similar dynamics to prompt them to do these events and to heavily advertise these events because are popular. "
   ]
  },
  {
   "cell_type": "code",
   "execution_count": 15,
   "id": "f05b51db-980d-4d4e-bd46-4f9fae78aed1",
   "metadata": {},
   "outputs": [
    {
     "data": {
      "text/html": [
       "<div>\n",
       "<style scoped>\n",
       "    .dataframe tbody tr th:only-of-type {\n",
       "        vertical-align: middle;\n",
       "    }\n",
       "\n",
       "    .dataframe tbody tr th {\n",
       "        vertical-align: top;\n",
       "    }\n",
       "\n",
       "    .dataframe thead th {\n",
       "        text-align: right;\n",
       "    }\n",
       "</style>\n",
       "<table border=\"1\" class=\"dataframe\">\n",
       "  <thead>\n",
       "    <tr style=\"text-align: right;\">\n",
       "      <th></th>\n",
       "      <th>School</th>\n",
       "      <th>Category</th>\n",
       "      <th>sum</th>\n",
       "      <th>mean</th>\n",
       "      <th>count</th>\n",
       "    </tr>\n",
       "  </thead>\n",
       "  <tbody>\n",
       "    <tr>\n",
       "      <th>0</th>\n",
       "      <td>Incarnate Word Academy - St. Louis, MO</td>\n",
       "      <td>Organizational</td>\n",
       "      <td>2414</td>\n",
       "      <td>17.120567</td>\n",
       "      <td>141</td>\n",
       "    </tr>\n",
       "    <tr>\n",
       "      <th>1</th>\n",
       "      <td>Incarnate Word Academy - St. Louis, MO</td>\n",
       "      <td>Sports</td>\n",
       "      <td>2248</td>\n",
       "      <td>14.789474</td>\n",
       "      <td>152</td>\n",
       "    </tr>\n",
       "    <tr>\n",
       "      <th>2</th>\n",
       "      <td>Nerinx Hall - St. Louis, MO</td>\n",
       "      <td>Organizational</td>\n",
       "      <td>11540</td>\n",
       "      <td>40.633803</td>\n",
       "      <td>284</td>\n",
       "    </tr>\n",
       "    <tr>\n",
       "      <th>3</th>\n",
       "      <td>Nerinx Hall - St. Louis, MO</td>\n",
       "      <td>Sports</td>\n",
       "      <td>3459</td>\n",
       "      <td>17.922280</td>\n",
       "      <td>193</td>\n",
       "    </tr>\n",
       "    <tr>\n",
       "      <th>4</th>\n",
       "      <td>St. Joseph's Academy - St. Louis, MO</td>\n",
       "      <td>Organizational</td>\n",
       "      <td>8003</td>\n",
       "      <td>29.973783</td>\n",
       "      <td>267</td>\n",
       "    </tr>\n",
       "    <tr>\n",
       "      <th>5</th>\n",
       "      <td>St. Joseph's Academy - St. Louis, MO</td>\n",
       "      <td>Sports</td>\n",
       "      <td>3784</td>\n",
       "      <td>20.021164</td>\n",
       "      <td>189</td>\n",
       "    </tr>\n",
       "  </tbody>\n",
       "</table>\n",
       "</div>"
      ],
      "text/plain": [
       "                                   School        Category    sum       mean  \\\n",
       "0  Incarnate Word Academy - St. Louis, MO  Organizational   2414  17.120567   \n",
       "1  Incarnate Word Academy - St. Louis, MO          Sports   2248  14.789474   \n",
       "2             Nerinx Hall - St. Louis, MO  Organizational  11540  40.633803   \n",
       "3             Nerinx Hall - St. Louis, MO          Sports   3459  17.922280   \n",
       "4    St. Joseph's Academy - St. Louis, MO  Organizational   8003  29.973783   \n",
       "5    St. Joseph's Academy - St. Louis, MO          Sports   3784  20.021164   \n",
       "\n",
       "   count  \n",
       "0    141  \n",
       "1    152  \n",
       "2    284  \n",
       "3    193  \n",
       "4    267  \n",
       "5    189  "
      ]
     },
     "execution_count": 15,
     "metadata": {},
     "output_type": "execute_result"
    }
   ],
   "source": [
    "# Categorize events based on 'Created By'\n",
    "def categorize_event(created_by):\n",
    "    if created_by.endswith('Athletics'):\n",
    "        return 'Sports'\n",
    "    else:\n",
    "        return 'Organizational'\n",
    "\n",
    "# Apply the adjusted categorization to the data\n",
    "selected_features_df2['Category'] = selected_features_df2['Created By'].apply(categorize_event)\n",
    "\n",
    "# Calculate total and average clicks by category for each school\n",
    "clicks_by_category_school = selected_features_df2.groupby(['School', 'Category'])['Clicks'].agg(['sum', 'mean', 'count']).reset_index()\n",
    "clicks_by_category_school"
   ]
  },
  {
   "cell_type": "markdown",
   "id": "b554e16f",
   "metadata": {},
   "source": [
    "Within every institution, the table offers a breakdown of the event classes and the information that accompany them. The two essential event classes, \"Organizational\" and \"Sports,\" are recognized for all institutions. Both St. Joseph's Institute and Incarnate Word Foundation show a comparative example, sponsoring around a similar measure of extracurricular and athletic activities. Nerinx Corridor, on the other hand, displays a striking inconsistency, with a particularly greater amount of organizational events relative to sporting events. This acknowledgment highlights the need for customized event planning methods to address the distinct interests and objectives of each school by pointing to potential variations in event."
   ]
  },
  {
   "cell_type": "markdown",
   "id": "aa9040f4",
   "metadata": {},
   "source": [
    "The code calculates aggregate metrics such as total clicks(sum), average clicks(mean), and total event count for each category(count) within each school. This informations helps us understand the distribution between Organizational, and spots events. We can hypothesis that the more events that you through the more clicks you will will receive on average. We also can see that Nerinx Hall throws a few more events but has thousand more total clicks. We can hypothesis that Nerinx Hall's has a few more events that are significantly more popular than St. Joseph's and IWA most popular events."
   ]
  },
  {
   "cell_type": "markdown",
   "id": "24ae1fe4",
   "metadata": {},
   "source": [
    "----------------------------------------------------------------------------------------------------------------------------------------------------------------"
   ]
  },
  {
   "cell_type": "markdown",
   "id": "eb92ed80-89c5-4a07-bba6-3346c51ce7b5",
   "metadata": {},
   "source": [
    "## Media"
   ]
  },
  {
   "cell_type": "code",
   "execution_count": 16,
   "id": "e8c4c78a-a9d5-449b-b4b4-2da67124e7a0",
   "metadata": {},
   "outputs": [
    {
     "data": {
      "text/html": [
       "<div>\n",
       "<style scoped>\n",
       "    .dataframe tbody tr th:only-of-type {\n",
       "        vertical-align: middle;\n",
       "    }\n",
       "\n",
       "    .dataframe tbody tr th {\n",
       "        vertical-align: top;\n",
       "    }\n",
       "\n",
       "    .dataframe thead th {\n",
       "        text-align: right;\n",
       "    }\n",
       "</style>\n",
       "<table border=\"1\" class=\"dataframe\">\n",
       "  <thead>\n",
       "    <tr style=\"text-align: right;\">\n",
       "      <th></th>\n",
       "      <th>School</th>\n",
       "      <th>Clicks</th>\n",
       "      <th>Created By</th>\n",
       "    </tr>\n",
       "  </thead>\n",
       "  <tbody>\n",
       "    <tr>\n",
       "      <th>0</th>\n",
       "      <td>Incarnate Word Academy - St. Louis, MO</td>\n",
       "      <td>44</td>\n",
       "      <td>Incarnate Word Academy</td>\n",
       "    </tr>\n",
       "    <tr>\n",
       "      <th>1</th>\n",
       "      <td>Incarnate Word Academy - St. Louis, MO</td>\n",
       "      <td>39</td>\n",
       "      <td>Incarnate Word Academy</td>\n",
       "    </tr>\n",
       "    <tr>\n",
       "      <th>2</th>\n",
       "      <td>Incarnate Word Academy - St. Louis, MO</td>\n",
       "      <td>38</td>\n",
       "      <td>Incarnate Word Academy</td>\n",
       "    </tr>\n",
       "    <tr>\n",
       "      <th>3</th>\n",
       "      <td>Incarnate Word Academy - St. Louis, MO</td>\n",
       "      <td>38</td>\n",
       "      <td>Incarnate Word Academy</td>\n",
       "    </tr>\n",
       "    <tr>\n",
       "      <th>4</th>\n",
       "      <td>Incarnate Word Academy - St. Louis, MO</td>\n",
       "      <td>38</td>\n",
       "      <td>Incarnate Word Academy</td>\n",
       "    </tr>\n",
       "  </tbody>\n",
       "</table>\n",
       "</div>"
      ],
      "text/plain": [
       "                                   School  Clicks              Created By\n",
       "0  Incarnate Word Academy - St. Louis, MO      44  Incarnate Word Academy\n",
       "1  Incarnate Word Academy - St. Louis, MO      39  Incarnate Word Academy\n",
       "2  Incarnate Word Academy - St. Louis, MO      38  Incarnate Word Academy\n",
       "3  Incarnate Word Academy - St. Louis, MO      38  Incarnate Word Academy\n",
       "4  Incarnate Word Academy - St. Louis, MO      38  Incarnate Word Academy"
      ]
     },
     "execution_count": 16,
     "metadata": {},
     "output_type": "execute_result"
    }
   ],
   "source": [
    "# Selecting important features\n",
    "selected_features_df3 = df3[['School', 'Clicks', 'Created By']]\n",
    "selected_features_df3.head()"
   ]
  },
  {
   "cell_type": "markdown",
   "id": "c2a87707",
   "metadata": {},
   "source": [
    "Above, we are cleaning and setting the data up for later use in our predictive models."
   ]
  },
  {
   "cell_type": "code",
   "execution_count": 36,
   "id": "46735d10-997e-452f-8822-574652a7cc53",
   "metadata": {
    "scrolled": true
   },
   "outputs": [
    {
     "name": "stdout",
     "output_type": "stream",
     "text": [
      "Summary statistics for media click counts:\n"
     ]
    },
    {
     "data": {
      "text/plain": [
       "count    363.000000\n",
       "mean      32.035813\n",
       "std       22.125117\n",
       "min        0.000000\n",
       "25%       16.000000\n",
       "50%       30.000000\n",
       "75%       43.500000\n",
       "max      164.000000\n",
       "Name: Clicks, dtype: float64"
      ]
     },
     "execution_count": 36,
     "metadata": {},
     "output_type": "execute_result"
    }
   ],
   "source": [
    "# Calculate summary statistics for media click counts\n",
    "summary_stats_media = selected_features_df3['Clicks'].describe()\n",
    "print(\"Summary statistics for media click counts:\")\n",
    "summary_stats_media"
   ]
  },
  {
   "cell_type": "code",
   "execution_count": 37,
   "id": "865ce9e9",
   "metadata": {},
   "outputs": [
    {
     "name": "stdout",
     "output_type": "stream",
     "text": [
      "Summary statistics for event click counts:\n"
     ]
    },
    {
     "data": {
      "text/plain": [
       "count    1226.000000\n",
       "mean       25.650897\n",
       "std        22.345096\n",
       "min         0.000000\n",
       "25%        10.250000\n",
       "50%        20.000000\n",
       "75%        35.000000\n",
       "max       164.000000\n",
       "Name: Clicks, dtype: float64"
      ]
     },
     "execution_count": 37,
     "metadata": {},
     "output_type": "execute_result"
    }
   ],
   "source": [
    "# Calculate summary statistics for event click counts\n",
    "summary_stats_event = selected_features_df2['Clicks'].describe()\n",
    "print(\"Summary statistics for event click counts:\")\n",
    "summary_stats_event"
   ]
  },
  {
   "cell_type": "code",
   "execution_count": 28,
   "id": "7252818d",
   "metadata": {
    "scrolled": true
   },
   "outputs": [
    {
     "name": "stdout",
     "output_type": "stream",
     "text": [
      "Summary statistics for event click counts:\n"
     ]
    },
    {
     "data": {
      "text/plain": [
       "count     65.000000\n",
       "mean     207.646154\n",
       "std      158.178344\n",
       "min       12.000000\n",
       "25%       42.000000\n",
       "50%      183.000000\n",
       "75%      311.000000\n",
       "max      576.000000\n",
       "Name: Clicks, dtype: float64"
      ]
     },
     "execution_count": 28,
     "metadata": {},
     "output_type": "execute_result"
    }
   ],
   "source": [
    "# Descriptive statistics: Calculate summary statistics for click counts\n",
    "summary_stats_directory = df4['Clicks'].describe()\n",
    "print(\"Summary statistics for event click counts:\")\n",
    "summary_stats_directory"
   ]
  },
  {
   "cell_type": "code",
   "execution_count": 44,
   "id": "20eece38",
   "metadata": {},
   "outputs": [
    {
     "data": {
      "text/html": [
       "<div>\n",
       "<style scoped>\n",
       "    .dataframe tbody tr th:only-of-type {\n",
       "        vertical-align: middle;\n",
       "    }\n",
       "\n",
       "    .dataframe tbody tr th {\n",
       "        vertical-align: top;\n",
       "    }\n",
       "\n",
       "    .dataframe thead th {\n",
       "        text-align: right;\n",
       "    }\n",
       "</style>\n",
       "<table border=\"1\" class=\"dataframe\">\n",
       "  <thead>\n",
       "    <tr style=\"text-align: right;\">\n",
       "      <th></th>\n",
       "      <th>Feature</th>\n",
       "      <th>Clicks Per Item</th>\n",
       "      <th>Standardized Score</th>\n",
       "    </tr>\n",
       "  </thead>\n",
       "  <tbody>\n",
       "    <tr>\n",
       "      <th>2</th>\n",
       "      <td>directory</td>\n",
       "      <td>3.194556</td>\n",
       "      <td>1.413970</td>\n",
       "    </tr>\n",
       "    <tr>\n",
       "      <th>0</th>\n",
       "      <td>media</td>\n",
       "      <td>0.088253</td>\n",
       "      <td>-0.684245</td>\n",
       "    </tr>\n",
       "    <tr>\n",
       "      <th>1</th>\n",
       "      <td>events</td>\n",
       "      <td>0.020922</td>\n",
       "      <td>-0.729725</td>\n",
       "    </tr>\n",
       "  </tbody>\n",
       "</table>\n",
       "</div>"
      ],
      "text/plain": [
       "     Feature  Clicks Per Item  Standardized Score\n",
       "2  directory         3.194556            1.413970\n",
       "0      media         0.088253           -0.684245\n",
       "1     events         0.020922           -0.729725"
      ]
     },
     "execution_count": 44,
     "metadata": {},
     "output_type": "execute_result"
    }
   ],
   "source": [
    "# Mean clicks for each feature\n",
    "mean_clicks = {\n",
    "    'media': 32.035813,\n",
    "    'events': 25.650897,\n",
    "    'directory': 207.646154\n",
    "}\n",
    "\n",
    "# Count for each feature\n",
    "count_items = {\n",
    "    'media': 363,\n",
    "    'events': 1226,\n",
    "    'directory': 65\n",
    "}\n",
    "\n",
    "# Calculate clicks per item\n",
    "clicks_per_feature = {feature: mean_clicks[feature] / count_items[feature] for feature in mean_clicks}\n",
    "\n",
    "# Convert to a DataFrame\n",
    "clicks_per_feature_df = pd.DataFrame(list(clicks_per_item.items()), columns=['Feature', 'Clicks Per Item'])\n",
    "\n",
    "# Calculate the z-scores (standardized scores) for comparison\n",
    "clicks_per_feature_df['Standardized Score'] = zscore(clicks_per_item_df['Clicks Per Item'])\n",
    "\n",
    "# Sort the features by the standardized score to determine the most popular feature\n",
    "clicks_per_feature_df.sort_values(by='Standardized Score', ascending=False, inplace=True)\n",
    "\n",
    "clicks_per_feature_df"
   ]
  },
  {
   "cell_type": "markdown",
   "id": "d96ccfe2",
   "metadata": {},
   "source": [
    "The results above indicate that, on average, the directory feature receives significantly more clicks compared to media and events, with a standardized score that is 1.41 standard deviations above the mean of the dataset. This suggests that the directory is the most popular feature among the three, with users engaging with it more than media or event listings. In contrast, media and events have negative standardized scores of -0.68 and -0.73, respectively, indicating that they are below the average engagement level of this group of features. This metric could imply that users find the directory listings more relevant or useful, leading to higher interaction rates.\n",
    "\n",
    "This makes sense because it is a consolidated space in the app to link to other software and apps that are helpful to users at a school. An example of that would be having canvas in the directory if Bloc were being used at Maryville."
   ]
  },
  {
   "cell_type": "code",
   "execution_count": 46,
   "id": "2f2f4f28",
   "metadata": {
    "scrolled": true
   },
   "outputs": [
    {
     "name": "stdout",
     "output_type": "stream",
     "text": [
      "\n",
      "Total clicks and media posts by school:\n"
     ]
    },
    {
     "data": {
      "text/html": [
       "<div>\n",
       "<style scoped>\n",
       "    .dataframe tbody tr th:only-of-type {\n",
       "        vertical-align: middle;\n",
       "    }\n",
       "\n",
       "    .dataframe tbody tr th {\n",
       "        vertical-align: top;\n",
       "    }\n",
       "\n",
       "    .dataframe thead th {\n",
       "        text-align: right;\n",
       "    }\n",
       "</style>\n",
       "<table border=\"1\" class=\"dataframe\">\n",
       "  <thead>\n",
       "    <tr style=\"text-align: right;\">\n",
       "      <th></th>\n",
       "      <th>School</th>\n",
       "      <th>Total_Clicks</th>\n",
       "      <th>Total_Media_Posts</th>\n",
       "    </tr>\n",
       "  </thead>\n",
       "  <tbody>\n",
       "    <tr>\n",
       "      <th>0</th>\n",
       "      <td>Incarnate Word Academy - St. Louis, MO</td>\n",
       "      <td>5325</td>\n",
       "      <td>225</td>\n",
       "    </tr>\n",
       "    <tr>\n",
       "      <th>1</th>\n",
       "      <td>Nerinx Hall - St. Louis, MO</td>\n",
       "      <td>3309</td>\n",
       "      <td>57</td>\n",
       "    </tr>\n",
       "    <tr>\n",
       "      <th>2</th>\n",
       "      <td>St. Joseph's Academy - St. Louis, MO</td>\n",
       "      <td>2995</td>\n",
       "      <td>81</td>\n",
       "    </tr>\n",
       "  </tbody>\n",
       "</table>\n",
       "</div>"
      ],
      "text/plain": [
       "                                   School  Total_Clicks  Total_Media_Posts\n",
       "0  Incarnate Word Academy - St. Louis, MO          5325                225\n",
       "1             Nerinx Hall - St. Louis, MO          3309                 57\n",
       "2    St. Joseph's Academy - St. Louis, MO          2995                 81"
      ]
     },
     "execution_count": 46,
     "metadata": {},
     "output_type": "execute_result"
    }
   ],
   "source": [
    "school_comparison = selected_features_df3.groupby('School').agg(\n",
    "    Total_Clicks=pd.NamedAgg(column='Clicks', aggfunc='sum'),\n",
    "    Total_Media_Posts=pd.NamedAgg(column='Clicks', aggfunc='count')  # Assuming each row represents a media post\n",
    ").reset_index()\n",
    "\n",
    "print(\"\\nTotal clicks and media posts by school:\")\n",
    "school_comparison"
   ]
  },
  {
   "cell_type": "markdown",
   "id": "17c7b90e",
   "metadata": {},
   "source": [
    "To look at which schools are utilizing media the most, we wanted to see the total clicks and total posts per school. Now we see that Incarnate Word utilizes the media feature the most, followed by Nerinx and finally St. Joseph's."
   ]
  },
  {
   "cell_type": "code",
   "execution_count": 48,
   "id": "9398f720",
   "metadata": {},
   "outputs": [
    {
     "data": {
      "text/plain": [
       "0.07551919446192575"
      ]
     },
     "execution_count": 48,
     "metadata": {},
     "output_type": "execute_result"
    }
   ],
   "source": [
    "# Totals for events, media, and cost per month\n",
    "total_events_posts_corrected = 1226\n",
    "total_media_posts_corrected = 363\n",
    "total_monthly_cost_corrected = 120\n",
    "\n",
    "total_posts_corrected = total_events_posts_corrected + total_media_posts_corrected\n",
    "cost_per_post_corrected = total_monthly_cost_corrected / total_posts_corrected\n",
    "\n",
    "cost_per_post_corrected"
   ]
  },
  {
   "cell_type": "markdown",
   "id": "e9307d6b",
   "metadata": {},
   "source": [
    "To automate the events and media, pulling from multiple sources, it costs around 120 dollars/month for automation tools. Based on the results above, it costs approximately $7.55 cents per post, when I am allocating a monthly budget of 120 dollars across all posts.\n",
    "\n",
    "Later, we will see how much money Bloc will be \"saving\" when Villa Duchesne implements the app."
   ]
  },
  {
   "cell_type": "code",
   "execution_count": 1,
   "id": "64604d24",
   "metadata": {},
   "outputs": [
    {
     "data": {
      "text/plain": [
       "0.01631321370309951"
      ]
     },
     "execution_count": 1,
     "metadata": {},
     "output_type": "execute_result"
    }
   ],
   "source": [
    "# Totals for events, without media, and cost per month\n",
    "total_events_posts_corrected = 1226\n",
    "total_monthly_cost_corrected = 20\n",
    "\n",
    "cost_per_post_corrected = total_monthly_cost_corrected / total_events_posts_corrected\n",
    "\n",
    "cost_per_post_corrected"
   ]
  },
  {
   "cell_type": "markdown",
   "id": "bff10f8c",
   "metadata": {},
   "source": [
    "----------------------------------------------------------------------------------------------------------------------------------------------------------------"
   ]
  },
  {
   "cell_type": "markdown",
   "id": "33443074-61b2-4e34-a921-dbc428311e31",
   "metadata": {},
   "source": [
    "### Directory"
   ]
  },
  {
   "cell_type": "code",
   "execution_count": 5,
   "id": "a46c52b7-d95a-4b95-bf29-8bde694e90c9",
   "metadata": {},
   "outputs": [
    {
     "data": {
      "text/html": [
       "<div>\n",
       "<style scoped>\n",
       "    .dataframe tbody tr th:only-of-type {\n",
       "        vertical-align: middle;\n",
       "    }\n",
       "\n",
       "    .dataframe tbody tr th {\n",
       "        vertical-align: top;\n",
       "    }\n",
       "\n",
       "    .dataframe thead th {\n",
       "        text-align: right;\n",
       "    }\n",
       "</style>\n",
       "<table border=\"1\" class=\"dataframe\">\n",
       "  <thead>\n",
       "    <tr style=\"text-align: right;\">\n",
       "      <th></th>\n",
       "      <th>School</th>\n",
       "      <th>Clicks</th>\n",
       "    </tr>\n",
       "  </thead>\n",
       "  <tbody>\n",
       "    <tr>\n",
       "      <th>0</th>\n",
       "      <td>Incarnate Word Academy - St. Louis, MO</td>\n",
       "      <td>29</td>\n",
       "    </tr>\n",
       "    <tr>\n",
       "      <th>1</th>\n",
       "      <td>Incarnate Word Academy - St. Louis, MO</td>\n",
       "      <td>98</td>\n",
       "    </tr>\n",
       "    <tr>\n",
       "      <th>2</th>\n",
       "      <td>Incarnate Word Academy - St. Louis, MO</td>\n",
       "      <td>36</td>\n",
       "    </tr>\n",
       "    <tr>\n",
       "      <th>3</th>\n",
       "      <td>Incarnate Word Academy - St. Louis, MO</td>\n",
       "      <td>25</td>\n",
       "    </tr>\n",
       "    <tr>\n",
       "      <th>4</th>\n",
       "      <td>Incarnate Word Academy - St. Louis, MO</td>\n",
       "      <td>187</td>\n",
       "    </tr>\n",
       "  </tbody>\n",
       "</table>\n",
       "</div>"
      ],
      "text/plain": [
       "                                   School  Clicks\n",
       "0  Incarnate Word Academy - St. Louis, MO      29\n",
       "1  Incarnate Word Academy - St. Louis, MO      98\n",
       "2  Incarnate Word Academy - St. Louis, MO      36\n",
       "3  Incarnate Word Academy - St. Louis, MO      25\n",
       "4  Incarnate Word Academy - St. Louis, MO     187"
      ]
     },
     "execution_count": 5,
     "metadata": {},
     "output_type": "execute_result"
    }
   ],
   "source": [
    "# Selecting important features\n",
    "selected_features_df4 = df4[['School', 'Clicks']]\n",
    "selected_features_df4.head()"
   ]
  },
  {
   "cell_type": "code",
   "execution_count": 6,
   "id": "b9fd26d0",
   "metadata": {
    "scrolled": false
   },
   "outputs": [
    {
     "data": {
      "text/html": [
       "<div>\n",
       "<style scoped>\n",
       "    .dataframe tbody tr th:only-of-type {\n",
       "        vertical-align: middle;\n",
       "    }\n",
       "\n",
       "    .dataframe tbody tr th {\n",
       "        vertical-align: top;\n",
       "    }\n",
       "\n",
       "    .dataframe thead th {\n",
       "        text-align: right;\n",
       "    }\n",
       "</style>\n",
       "<table border=\"1\" class=\"dataframe\">\n",
       "  <thead>\n",
       "    <tr style=\"text-align: right;\">\n",
       "      <th></th>\n",
       "      <th>School</th>\n",
       "      <th>Title</th>\n",
       "      <th>Clicks</th>\n",
       "    </tr>\n",
       "  </thead>\n",
       "  <tbody>\n",
       "    <tr>\n",
       "      <th>0</th>\n",
       "      <td>Incarnate Word Academy - St. Louis, MO</td>\n",
       "      <td>Weekly Newsletter</td>\n",
       "      <td>261</td>\n",
       "    </tr>\n",
       "    <tr>\n",
       "      <th>1</th>\n",
       "      <td>Incarnate Word Academy - St. Louis, MO</td>\n",
       "      <td>Contact Coaches</td>\n",
       "      <td>187</td>\n",
       "    </tr>\n",
       "    <tr>\n",
       "      <th>2</th>\n",
       "      <td>Incarnate Word Academy - St. Louis, MO</td>\n",
       "      <td>Clubs and Organizations</td>\n",
       "      <td>156</td>\n",
       "    </tr>\n",
       "    <tr>\n",
       "      <th>3</th>\n",
       "      <td>Nerinx Hall - St. Louis, MO</td>\n",
       "      <td>Tuition and Financial Assistance</td>\n",
       "      <td>576</td>\n",
       "    </tr>\n",
       "    <tr>\n",
       "      <th>4</th>\n",
       "      <td>Nerinx Hall - St. Louis, MO</td>\n",
       "      <td>Athletics</td>\n",
       "      <td>541</td>\n",
       "    </tr>\n",
       "    <tr>\n",
       "      <th>5</th>\n",
       "      <td>Nerinx Hall - St. Louis, MO</td>\n",
       "      <td>Service Learning</td>\n",
       "      <td>493</td>\n",
       "    </tr>\n",
       "    <tr>\n",
       "      <th>6</th>\n",
       "      <td>St. Joseph's Academy - St. Louis, MO</td>\n",
       "      <td>Scholarships</td>\n",
       "      <td>487</td>\n",
       "    </tr>\n",
       "    <tr>\n",
       "      <th>7</th>\n",
       "      <td>St. Joseph's Academy - St. Louis, MO</td>\n",
       "      <td>Curriculum</td>\n",
       "      <td>471</td>\n",
       "    </tr>\n",
       "    <tr>\n",
       "      <th>8</th>\n",
       "      <td>St. Joseph's Academy - St. Louis, MO</td>\n",
       "      <td>Athletics</td>\n",
       "      <td>432</td>\n",
       "    </tr>\n",
       "  </tbody>\n",
       "</table>\n",
       "</div>"
      ],
      "text/plain": [
       "                                   School                             Title  \\\n",
       "0  Incarnate Word Academy - St. Louis, MO                 Weekly Newsletter   \n",
       "1  Incarnate Word Academy - St. Louis, MO                   Contact Coaches   \n",
       "2  Incarnate Word Academy - St. Louis, MO           Clubs and Organizations   \n",
       "3             Nerinx Hall - St. Louis, MO  Tuition and Financial Assistance   \n",
       "4             Nerinx Hall - St. Louis, MO                         Athletics   \n",
       "5             Nerinx Hall - St. Louis, MO                  Service Learning   \n",
       "6    St. Joseph's Academy - St. Louis, MO                      Scholarships   \n",
       "7    St. Joseph's Academy - St. Louis, MO                        Curriculum   \n",
       "8    St. Joseph's Academy - St. Louis, MO                         Athletics   \n",
       "\n",
       "   Clicks  \n",
       "0     261  \n",
       "1     187  \n",
       "2     156  \n",
       "3     576  \n",
       "4     541  \n",
       "5     493  \n",
       "6     487  \n",
       "7     471  \n",
       "8     432  "
      ]
     },
     "execution_count": 6,
     "metadata": {},
     "output_type": "execute_result"
    }
   ],
   "source": [
    "# Select only the required columns\n",
    "selected_features_df4 = df4[['School', 'Title', 'Clicks']]\n",
    "\n",
    "# Sort the DataFrame by 'School' and 'Clicks' to ensure it's ordered properly for the top 3 selection\n",
    "sorted_df4 = selected_features_df4.sort_values(by=['School', 'Clicks'], ascending=[True, False])\n",
    "\n",
    "# Group by 'School' and get the top 3 entries for each school\n",
    "top3_per_school = sorted_df4.groupby('School').head(3)\n",
    "\n",
    "# Reset the index for a cleaner DataFrame\n",
    "top3_per_school = top3_per_school.reset_index(drop=True)\n",
    "\n",
    "# Display the result\n",
    "top3_per_school.head(10)"
   ]
  },
  {
   "cell_type": "code",
   "execution_count": 47,
   "id": "ba50b63a",
   "metadata": {
    "scrolled": true
   },
   "outputs": [
    {
     "data": {
      "text/html": [
       "<div>\n",
       "<style scoped>\n",
       "    .dataframe tbody tr th:only-of-type {\n",
       "        vertical-align: middle;\n",
       "    }\n",
       "\n",
       "    .dataframe tbody tr th {\n",
       "        vertical-align: top;\n",
       "    }\n",
       "\n",
       "    .dataframe thead th {\n",
       "        text-align: right;\n",
       "    }\n",
       "</style>\n",
       "<table border=\"1\" class=\"dataframe\">\n",
       "  <thead>\n",
       "    <tr style=\"text-align: right;\">\n",
       "      <th></th>\n",
       "      <th>Incarnate Word Academy - St. Louis, MO</th>\n",
       "      <th>St. Joseph's Academy - St. Louis, MO</th>\n",
       "      <th>Nerinx Hall - St. Louis, MO</th>\n",
       "    </tr>\n",
       "  </thead>\n",
       "  <tbody>\n",
       "    <tr>\n",
       "      <th>0</th>\n",
       "      <td>(Tuition and Financial Assistance, Nerinx Hall...</td>\n",
       "      <td>(Tuition and Financial Assistance, Nerinx Hall...</td>\n",
       "      <td>(Scholarships, St. Joseph's Academy - St. Loui...</td>\n",
       "    </tr>\n",
       "    <tr>\n",
       "      <th>1</th>\n",
       "      <td>(Athletics, Nerinx Hall - St. Louis, MO, 541)</td>\n",
       "      <td>(Athletics, Nerinx Hall - St. Louis, MO, 541)</td>\n",
       "      <td>(Curriculum, St. Joseph's Academy - St. Louis,...</td>\n",
       "    </tr>\n",
       "    <tr>\n",
       "      <th>2</th>\n",
       "      <td>(Service Learning, Nerinx Hall - St. Louis, MO...</td>\n",
       "      <td>(Service Learning, Nerinx Hall - St. Louis, MO...</td>\n",
       "      <td>(Athletics, St. Joseph's Academy - St. Louis, ...</td>\n",
       "    </tr>\n",
       "    <tr>\n",
       "      <th>3</th>\n",
       "      <td>(Scholarships, St. Joseph's Academy - St. Loui...</td>\n",
       "      <td>(Give Now, Nerinx Hall - St. Louis, MO, 478)</td>\n",
       "      <td>(Current Parents, St. Joseph's Academy - St. L...</td>\n",
       "    </tr>\n",
       "    <tr>\n",
       "      <th>4</th>\n",
       "      <td>(Give Now, Nerinx Hall - St. Louis, MO, 478)</td>\n",
       "      <td>(Counseling, Nerinx Hall - St. Louis, MO, 449)</td>\n",
       "      <td>(General Information, St. Joseph's Academy - S...</td>\n",
       "    </tr>\n",
       "  </tbody>\n",
       "</table>\n",
       "</div>"
      ],
      "text/plain": [
       "              Incarnate Word Academy - St. Louis, MO  \\\n",
       "0  (Tuition and Financial Assistance, Nerinx Hall...   \n",
       "1      (Athletics, Nerinx Hall - St. Louis, MO, 541)   \n",
       "2  (Service Learning, Nerinx Hall - St. Louis, MO...   \n",
       "3  (Scholarships, St. Joseph's Academy - St. Loui...   \n",
       "4       (Give Now, Nerinx Hall - St. Louis, MO, 478)   \n",
       "\n",
       "                St. Joseph's Academy - St. Louis, MO  \\\n",
       "0  (Tuition and Financial Assistance, Nerinx Hall...   \n",
       "1      (Athletics, Nerinx Hall - St. Louis, MO, 541)   \n",
       "2  (Service Learning, Nerinx Hall - St. Louis, MO...   \n",
       "3       (Give Now, Nerinx Hall - St. Louis, MO, 478)   \n",
       "4     (Counseling, Nerinx Hall - St. Louis, MO, 449)   \n",
       "\n",
       "                         Nerinx Hall - St. Louis, MO  \n",
       "0  (Scholarships, St. Joseph's Academy - St. Loui...  \n",
       "1  (Curriculum, St. Joseph's Academy - St. Louis,...  \n",
       "2  (Athletics, St. Joseph's Academy - St. Louis, ...  \n",
       "3  (Current Parents, St. Joseph's Academy - St. L...  \n",
       "4  (General Information, St. Joseph's Academy - S...  "
      ]
     },
     "execution_count": 47,
     "metadata": {},
     "output_type": "execute_result"
    }
   ],
   "source": [
    "# To suggest popular directories to each school based on the titles from all schools,\n",
    "# we will iterate through each school, find top similar titles from other schools,\n",
    "# and prioritize those with higher clicks and similar names. By considering \n",
    "# the popularity (clicks) and comparing titles among the schools, we can get a similar \n",
    "# and get a diverse set of recommendations.\n",
    "\n",
    "# Add 'Clicks' to our selection for considering popularity\n",
    "df4_selected_with_clicks = df4[['Title', 'School', 'Clicks']]\n",
    "\n",
    "# Transforming titles to numerical data using TF-IDF\n",
    "tfidf_vectorizer = TfidfVectorizer(stop_words='english')\n",
    "tfidf_matrix = tfidf_vectorizer.fit_transform(df4_selected_with_clicks['Title'])\n",
    "\n",
    "# Calculating cosine similarity matrix\n",
    "cosine_sim_df = pd.DataFrame(cosine_similarity(tfidf_matrix))\n",
    "\n",
    "# Adjust our function to also return the clicks and to pull from the entire dataset, excluding the current school\n",
    "def get_similar_and_popular_titles(school, df4, similarity_df, top_n=5):\n",
    "    # Filter df4 for the current school\n",
    "    titles_from_school = df4[df4['School'] == school]\n",
    "    \n",
    "    suggestions = []\n",
    "\n",
    "    for title_index, title_row in titles_from_school.iterrows():\n",
    "        similar_scores = list(enumerate(similarity_df.iloc[title_index]))\n",
    "        similar_scores_sorted = sorted(similar_scores, key=lambda x: x[1], reverse=True)\n",
    "\n",
    "        for i, score in similar_scores_sorted:\n",
    "            if df4.iloc[i]['School'] != school:\n",
    "                suggestions.append((i, score, df4.iloc[i]['Clicks']))\n",
    "                if len(suggestions) >= top_n * 10:\n",
    "                    break\n",
    "\n",
    "    suggestions_sorted = sorted(suggestions, key=lambda x: (x[2], x[1]), reverse=True)\n",
    "    \n",
    "    unique_titles = set()\n",
    "    top_suggestions = []\n",
    "    for i, score, clicks in suggestions_sorted:\n",
    "        if df4.iloc[i]['Title'] not in unique_titles:\n",
    "            unique_titles.add(df4.iloc[i]['Title'])\n",
    "            top_suggestions.append((df4.iloc[i]['Title'], df4.iloc[i]['School'], clicks))\n",
    "            if len(top_suggestions) >= top_n:\n",
    "                break\n",
    "    \n",
    "    return top_suggestions\n",
    "\n",
    "# Generating suggestions for all schools\n",
    "schools = df4_selected_with_clicks['School'].unique()\n",
    "all_suggestions = {}\n",
    "for school in schools:\n",
    "    all_suggestions[school] = get_similar_and_popular_titles(school, df4_selected_with_clicks, cosine_sim_df)\n",
    "\n",
    "df4_suggestions = pd.DataFrame(all_suggestions)\n",
    "df4_suggestions.head()"
   ]
  },
  {
   "cell_type": "markdown",
   "id": "d1c0bfa8",
   "metadata": {},
   "source": [
    "The goal of the code is to suggest directories that are relevant to a particular school, based on what is popular at other schools with similar content.\n",
    "\n",
    "The results show the title of a directory from another school that might be of interest to users at the given school, based on the webpage's popularity (clicks) and content similarity. For example, both Incarnate Word Academy and St. Joseph's Academy have recommendations from Nerinx Hall's \"Athletics\" page, suggesting that this is a popular and relevant topic across these institutions."
   ]
  },
  {
   "cell_type": "markdown",
   "id": "10ee4089",
   "metadata": {},
   "source": [
    "----------------------------------------------------------------------------------------------------------------------------------------------------------------"
   ]
  },
  {
   "cell_type": "markdown",
   "id": "b01bf0ed-2b50-433e-afdd-26a78d953fef",
   "metadata": {},
   "source": [
    "## Model for Users"
   ]
  },
  {
   "cell_type": "markdown",
   "id": "4b0d0462",
   "metadata": {},
   "source": [
    "First, we need to get the general/baseline statistics of the Users data among the 3 schools. This allows us to use them in our dummy data for Villa Duchense, ultimately making our results from the models more accurate."
   ]
  },
  {
   "cell_type": "code",
   "execution_count": 23,
   "id": "4ab0ceb2",
   "metadata": {},
   "outputs": [
    {
     "data": {
      "text/plain": [
       "639"
      ]
     },
     "execution_count": 23,
     "metadata": {},
     "output_type": "execute_result"
    }
   ],
   "source": [
    "# Calculating the average number of users among the 3 schools\n",
    "total_users = [824, 689, 403]\n",
    "average_users = sum(total_users) / len(total_users)\n",
    "round(average_users)"
   ]
  },
  {
   "cell_type": "code",
   "execution_count": 24,
   "id": "9976e3d8",
   "metadata": {},
   "outputs": [
    {
     "data": {
      "text/plain": [
       "(Parent              0.345511\n",
       " Student             0.283925\n",
       " Alumni / Alumnae    0.251044\n",
       " Faculty             0.047495\n",
       " Community           0.042276\n",
       " Staff               0.025052\n",
       " Organization        0.004697\n",
       " Name: Identification, dtype: float64,\n",
       "       Event_Clicks  Media_Clicks  Directory_Clicks  Days_Logged_In\n",
       " mean     12.124739     18.578288          4.213400       55.069937\n",
       " std      11.099577     14.629047          3.701434       31.608065)"
      ]
     },
     "execution_count": 24,
     "metadata": {},
     "output_type": "execute_result"
    }
   ],
   "source": [
    "# Analyze the distribution of 'Identification' categories\n",
    "identification_distribution = df1['Identification'].value_counts(normalize=True)\n",
    "\n",
    "# Calculate mean and standard deviation for numerical columns\n",
    "numerical_columns = ['Event_Clicks', 'Media_Clicks', 'Directory_Clicks', 'Days_Logged_In']\n",
    "numerical_stats = df1[numerical_columns].describe().loc[['mean', 'std']]\n",
    "\n",
    "identification_distribution, numerical_stats"
   ]
  },
  {
   "cell_type": "markdown",
   "id": "5f62324f",
   "metadata": {},
   "source": [
    "The purpose of the provided code is to analyze the distribution of categories within the 'Identification' column and to compute summary statistics for numerical columns in the DataFrame. Overall, this code segment enables the exploration of both categorical and numerical aspects of the data, providing valuable insights into the distribution of user identifications and the characteristics of user engagement metrics within the Bloc app."
   ]
  },
  {
   "cell_type": "markdown",
   "id": "10294391",
   "metadata": {},
   "source": [
    "The identification distribution tells us what percentage of users comes from each group. We can see that parents is the group with the most users, from this we can conclude that parents use the app to stay on top of the events that the school is throwing. From this information we can hypothesis that parents are using the app to find information and stay connected with the school community. We can then take this information to the schools to tell them that the app is very popular with parents, and that they should use the app to inform parents of current and upcoming events. This is useful to know because kids often forget to tell their parents about certain events that they would be interested in."
   ]
  },
  {
   "cell_type": "code",
   "execution_count": 25,
   "id": "dd91fabe-f548-42b4-b6be-0fafd31c7551",
   "metadata": {
    "scrolled": false
   },
   "outputs": [
    {
     "name": "stdout",
     "output_type": "stream",
     "text": [
      "Updated Dummy Data for Villa Duchesne:\n"
     ]
    },
    {
     "data": {
      "text/html": [
       "<div>\n",
       "<style scoped>\n",
       "    .dataframe tbody tr th:only-of-type {\n",
       "        vertical-align: middle;\n",
       "    }\n",
       "\n",
       "    .dataframe tbody tr th {\n",
       "        vertical-align: top;\n",
       "    }\n",
       "\n",
       "    .dataframe thead th {\n",
       "        text-align: right;\n",
       "    }\n",
       "</style>\n",
       "<table border=\"1\" class=\"dataframe\">\n",
       "  <thead>\n",
       "    <tr style=\"text-align: right;\">\n",
       "      <th></th>\n",
       "      <th>User_ID</th>\n",
       "      <th>Identification</th>\n",
       "      <th>School</th>\n",
       "      <th>Event_Clicks</th>\n",
       "      <th>Media_Clicks</th>\n",
       "      <th>Directory_Clicks</th>\n",
       "      <th>Days_Logged_In</th>\n",
       "    </tr>\n",
       "  </thead>\n",
       "  <tbody>\n",
       "    <tr>\n",
       "      <th>0</th>\n",
       "      <td>User 1</td>\n",
       "      <td>Student</td>\n",
       "      <td>Villa Duchesne - St. Louis, MO</td>\n",
       "      <td>14</td>\n",
       "      <td>16</td>\n",
       "      <td>0</td>\n",
       "      <td>108</td>\n",
       "    </tr>\n",
       "    <tr>\n",
       "      <th>1</th>\n",
       "      <td>User 2</td>\n",
       "      <td>Community</td>\n",
       "      <td>Villa Duchesne - St. Louis, MO</td>\n",
       "      <td>15</td>\n",
       "      <td>10</td>\n",
       "      <td>2</td>\n",
       "      <td>56</td>\n",
       "    </tr>\n",
       "    <tr>\n",
       "      <th>2</th>\n",
       "      <td>User 3</td>\n",
       "      <td>Alumni / Alumnae</td>\n",
       "      <td>Villa Duchesne - St. Louis, MO</td>\n",
       "      <td>3</td>\n",
       "      <td>8</td>\n",
       "      <td>16</td>\n",
       "      <td>46</td>\n",
       "    </tr>\n",
       "    <tr>\n",
       "      <th>3</th>\n",
       "      <td>User 4</td>\n",
       "      <td>Student</td>\n",
       "      <td>Villa Duchesne - St. Louis, MO</td>\n",
       "      <td>8</td>\n",
       "      <td>0</td>\n",
       "      <td>4</td>\n",
       "      <td>44</td>\n",
       "    </tr>\n",
       "    <tr>\n",
       "      <th>4</th>\n",
       "      <td>User 5</td>\n",
       "      <td>Parent</td>\n",
       "      <td>Villa Duchesne - St. Louis, MO</td>\n",
       "      <td>7</td>\n",
       "      <td>0</td>\n",
       "      <td>12</td>\n",
       "      <td>3</td>\n",
       "    </tr>\n",
       "  </tbody>\n",
       "</table>\n",
       "</div>"
      ],
      "text/plain": [
       "  User_ID    Identification                          School  Event_Clicks  \\\n",
       "0  User 1           Student  Villa Duchesne - St. Louis, MO            14   \n",
       "1  User 2         Community  Villa Duchesne - St. Louis, MO            15   \n",
       "2  User 3  Alumni / Alumnae  Villa Duchesne - St. Louis, MO             3   \n",
       "3  User 4           Student  Villa Duchesne - St. Louis, MO             8   \n",
       "4  User 5            Parent  Villa Duchesne - St. Louis, MO             7   \n",
       "\n",
       "   Media_Clicks  Directory_Clicks  Days_Logged_In  \n",
       "0            16                 0             108  \n",
       "1            10                 2              56  \n",
       "2             8                16              46  \n",
       "3             0                 4              44  \n",
       "4             0                12               3  "
      ]
     },
     "execution_count": 25,
     "metadata": {},
     "output_type": "execute_result"
    }
   ],
   "source": [
    "# Ensure reproducibility\n",
    "np.random.seed(42)\n",
    "\n",
    "# Set the number of dummy rows for Villa Duchesne\n",
    "num_rows = 639\n",
    "\n",
    "# Adjusted distribution for 'Identification' based on real data\n",
    "identification_choices = ['Parent', 'Student', 'Alumni / Alumnae', 'Faculty', 'Community', 'Staff', 'Organization']\n",
    "identification_probs = [0.3455, 0.2839, 0.2510, 0.0475, 0.0423, 0.0251, 0.0047]\n",
    "\n",
    "# Adjusted mean and standard deviation for numerical columns based on real data\n",
    "event_clicks_mean, event_clicks_std = 16.2, 11.53\n",
    "media_clicks_mean, media_clicks_std = 6.1, 7.25\n",
    "directory_clicks_mean, directory_clicks_std = 7.04, 6.31\n",
    "days_logged_in_mean, days_logged_in_std = 55.07, 31.61\n",
    "\n",
    "# Generate dummy data for Villa Duchesne\n",
    "villa_duchesne_data = {\n",
    "    'User_ID': ['User ' + str(i) for i in range(1, num_rows + 1)],\n",
    "    'Identification': np.random.choice(identification_choices, size=num_rows, p=identification_probs),\n",
    "    'School': ['Villa Duchesne - St. Louis, MO'] * num_rows,\n",
    "    'Event_Clicks': np.random.normal(event_clicks_mean, event_clicks_std, size=num_rows).astype(int),\n",
    "    'Media_Clicks': np.random.normal(media_clicks_mean, media_clicks_std, size=num_rows).astype(int),\n",
    "    'Directory_Clicks': np.random.normal(directory_clicks_mean, directory_clicks_std, size=num_rows).astype(int),\n",
    "    'Days_Logged_In': np.random.normal(days_logged_in_mean, days_logged_in_std, size=num_rows).astype(int)\n",
    "}\n",
    "\n",
    "# Clip values to ensure they don't go below zero\n",
    "for key in ['Event_Clicks', 'Media_Clicks', 'Directory_Clicks', 'Days_Logged_In']:\n",
    "    villa_duchesne_data[key] = np.clip(villa_duchesne_data[key], 0, None)\n",
    "\n",
    "# Create DataFrame for Villa Duchesne dummy data\n",
    "villa_duchesne_Users = pd.DataFrame(villa_duchesne_data)\n",
    "\n",
    "# Print the first few rows of the dummy data for Villa Duchesne\n",
    "print(\"Updated Dummy Data for Villa Duchesne:\")\n",
    "villa_duchesne_Users.head()"
   ]
  },
  {
   "cell_type": "markdown",
   "id": "81fef363",
   "metadata": {},
   "source": [
    "The purpose of this code is to generate dummy data for a specific school, Villa Duchesne, based on the activity from the other three schools. Generating dummy data serves multiple critical purposes across data analysis and software development. Primarily, it facilitates rigorous testing and validation of algorithms, models, or software systems by providing simulated datasets that mimic real-world scenarios. Moreover, dummy data aids in prototyping new features or applications, enabling rapid itegration and experimentation before integration with actual data sources. Additionally, it plays a pivotal role in benchmarking and performance testing. Overall, generating dummy data is an indispensable practice that produces diverse data-driven projects and initiatives."
   ]
  },
  {
   "cell_type": "code",
   "execution_count": 26,
   "id": "36b534f1",
   "metadata": {},
   "outputs": [
    {
     "data": {
      "text/html": [
       "<div>\n",
       "<style scoped>\n",
       "    .dataframe tbody tr th:only-of-type {\n",
       "        vertical-align: middle;\n",
       "    }\n",
       "\n",
       "    .dataframe tbody tr th {\n",
       "        vertical-align: top;\n",
       "    }\n",
       "\n",
       "    .dataframe thead th {\n",
       "        text-align: right;\n",
       "    }\n",
       "</style>\n",
       "<table border=\"1\" class=\"dataframe\">\n",
       "  <thead>\n",
       "    <tr style=\"text-align: right;\">\n",
       "      <th></th>\n",
       "      <th>User_ID</th>\n",
       "      <th>Identification</th>\n",
       "      <th>School</th>\n",
       "      <th>Event_Clicks</th>\n",
       "      <th>Media_Clicks</th>\n",
       "      <th>Directory_Clicks</th>\n",
       "      <th>Days_Logged_In</th>\n",
       "    </tr>\n",
       "  </thead>\n",
       "  <tbody>\n",
       "    <tr>\n",
       "      <th>0</th>\n",
       "      <td>User 34</td>\n",
       "      <td>Alumni / Alumnae</td>\n",
       "      <td>Incarnate Word Academy - St. Louis, MO</td>\n",
       "      <td>1</td>\n",
       "      <td>0</td>\n",
       "      <td>1.0</td>\n",
       "      <td>2</td>\n",
       "    </tr>\n",
       "    <tr>\n",
       "      <th>1</th>\n",
       "      <td>User 27</td>\n",
       "      <td>Alumni / Alumnae</td>\n",
       "      <td>Incarnate Word Academy - St. Louis, MO</td>\n",
       "      <td>1</td>\n",
       "      <td>1</td>\n",
       "      <td>0.0</td>\n",
       "      <td>3</td>\n",
       "    </tr>\n",
       "    <tr>\n",
       "      <th>2</th>\n",
       "      <td>User 43</td>\n",
       "      <td>Alumni / Alumnae</td>\n",
       "      <td>Incarnate Word Academy - St. Louis, MO</td>\n",
       "      <td>1</td>\n",
       "      <td>0</td>\n",
       "      <td>1.0</td>\n",
       "      <td>4</td>\n",
       "    </tr>\n",
       "    <tr>\n",
       "      <th>3</th>\n",
       "      <td>User 42</td>\n",
       "      <td>Alumni / Alumnae</td>\n",
       "      <td>Incarnate Word Academy - St. Louis, MO</td>\n",
       "      <td>0</td>\n",
       "      <td>1</td>\n",
       "      <td>1.0</td>\n",
       "      <td>5</td>\n",
       "    </tr>\n",
       "    <tr>\n",
       "      <th>4</th>\n",
       "      <td>User 6</td>\n",
       "      <td>Alumni / Alumnae</td>\n",
       "      <td>Incarnate Word Academy - St. Louis, MO</td>\n",
       "      <td>2</td>\n",
       "      <td>0</td>\n",
       "      <td>1.0</td>\n",
       "      <td>7</td>\n",
       "    </tr>\n",
       "    <tr>\n",
       "      <th>...</th>\n",
       "      <td>...</td>\n",
       "      <td>...</td>\n",
       "      <td>...</td>\n",
       "      <td>...</td>\n",
       "      <td>...</td>\n",
       "      <td>...</td>\n",
       "      <td>...</td>\n",
       "    </tr>\n",
       "    <tr>\n",
       "      <th>2550</th>\n",
       "      <td>User 635</td>\n",
       "      <td>Parent</td>\n",
       "      <td>Villa Duchesne - St. Louis, MO</td>\n",
       "      <td>7</td>\n",
       "      <td>14</td>\n",
       "      <td>5.0</td>\n",
       "      <td>33</td>\n",
       "    </tr>\n",
       "    <tr>\n",
       "      <th>2551</th>\n",
       "      <td>User 636</td>\n",
       "      <td>Student</td>\n",
       "      <td>Villa Duchesne - St. Louis, MO</td>\n",
       "      <td>19</td>\n",
       "      <td>8</td>\n",
       "      <td>8.0</td>\n",
       "      <td>43</td>\n",
       "    </tr>\n",
       "    <tr>\n",
       "      <th>2552</th>\n",
       "      <td>User 637</td>\n",
       "      <td>Student</td>\n",
       "      <td>Villa Duchesne - St. Louis, MO</td>\n",
       "      <td>27</td>\n",
       "      <td>10</td>\n",
       "      <td>17.0</td>\n",
       "      <td>44</td>\n",
       "    </tr>\n",
       "    <tr>\n",
       "      <th>2553</th>\n",
       "      <td>User 638</td>\n",
       "      <td>Parent</td>\n",
       "      <td>Villa Duchesne - St. Louis, MO</td>\n",
       "      <td>13</td>\n",
       "      <td>10</td>\n",
       "      <td>11.0</td>\n",
       "      <td>17</td>\n",
       "    </tr>\n",
       "    <tr>\n",
       "      <th>2554</th>\n",
       "      <td>User 639</td>\n",
       "      <td>Parent</td>\n",
       "      <td>Villa Duchesne - St. Louis, MO</td>\n",
       "      <td>20</td>\n",
       "      <td>25</td>\n",
       "      <td>1.0</td>\n",
       "      <td>45</td>\n",
       "    </tr>\n",
       "  </tbody>\n",
       "</table>\n",
       "<p>2555 rows × 7 columns</p>\n",
       "</div>"
      ],
      "text/plain": [
       "       User_ID    Identification                                  School  \\\n",
       "0      User 34  Alumni / Alumnae  Incarnate Word Academy - St. Louis, MO   \n",
       "1      User 27  Alumni / Alumnae  Incarnate Word Academy - St. Louis, MO   \n",
       "2      User 43  Alumni / Alumnae  Incarnate Word Academy - St. Louis, MO   \n",
       "3      User 42  Alumni / Alumnae  Incarnate Word Academy - St. Louis, MO   \n",
       "4       User 6  Alumni / Alumnae  Incarnate Word Academy - St. Louis, MO   \n",
       "...        ...               ...                                     ...   \n",
       "2550  User 635            Parent          Villa Duchesne - St. Louis, MO   \n",
       "2551  User 636           Student          Villa Duchesne - St. Louis, MO   \n",
       "2552  User 637           Student          Villa Duchesne - St. Louis, MO   \n",
       "2553  User 638            Parent          Villa Duchesne - St. Louis, MO   \n",
       "2554  User 639            Parent          Villa Duchesne - St. Louis, MO   \n",
       "\n",
       "      Event_Clicks  Media_Clicks  Directory_Clicks  Days_Logged_In  \n",
       "0                1             0               1.0               2  \n",
       "1                1             1               0.0               3  \n",
       "2                1             0               1.0               4  \n",
       "3                0             1               1.0               5  \n",
       "4                2             0               1.0               7  \n",
       "...            ...           ...               ...             ...  \n",
       "2550             7            14               5.0              33  \n",
       "2551            19             8               8.0              43  \n",
       "2552            27            10              17.0              44  \n",
       "2553            13            10              11.0              17  \n",
       "2554            20            25               1.0              45  \n",
       "\n",
       "[2555 rows x 7 columns]"
      ]
     },
     "execution_count": 26,
     "metadata": {},
     "output_type": "execute_result"
    }
   ],
   "source": [
    "# Combining Data for Users:\n",
    "selected_features_users = pd.concat([selected_features_df1, villa_duchesne_Users], ignore_index=True)\n",
    "selected_features_users"
   ]
  },
  {
   "cell_type": "markdown",
   "id": "97daa7f0",
   "metadata": {},
   "source": [
    "We combine the data for the users to create a complete dataset for Villa Duchesne. Utalizing our selected features and our generated dummy data."
   ]
  },
  {
   "cell_type": "code",
   "execution_count": 25,
   "id": "d10b84fc-fb20-4c83-8f58-a2c6f3ebd6a5",
   "metadata": {},
   "outputs": [],
   "source": [
    "# Split data into features (X) and target (y)\n",
    "X = selected_features_users.drop(columns=['User_ID', 'Identification', 'School'])\n",
    "y = selected_features_users['School']\n",
    "\n",
    "# Encode target variable\n",
    "label_encoder = LabelEncoder()\n",
    "y_encoded = label_encoder.fit_transform(y)\n",
    "\n",
    "# Split data into training and testing sets\n",
    "X_train, X_test, y_train, y_test = train_test_split(X, y_encoded, test_size=0.1, random_state=42, stratify=y_encoded)\n",
    "\n",
    "# Train the model\n",
    "model = RandomForestClassifier()\n",
    "model.fit(X_train, y_train)\n",
    "\n",
    "# Predictions for Villa Duchesne\n",
    "villa_duchesne_data_for_prediction = selected_features_users[selected_features_users['School'] == 'Villa Duchesne - St. Louis, MO'].drop(columns=['User_ID', 'Identification', 'School'])\n",
    "villa_predictions_encoded = model.predict(villa_duchesne_data_for_prediction)\n",
    "villa_predictions_rf = label_encoder.inverse_transform(villa_predictions_encoded)\n",
    "\n",
    "# Calculate predictions for the test set\n",
    "y_pred_rf = model.predict(X_test)"
   ]
  },
  {
   "cell_type": "markdown",
   "id": "af6f2f42",
   "metadata": {},
   "source": [
    "Chose Random Forest because it had the best results over other models/methods (Decision Tree, Neural Network, etc)"
   ]
  },
  {
   "cell_type": "code",
   "execution_count": 26,
   "id": "2b103531",
   "metadata": {},
   "outputs": [
    {
     "data": {
      "text/html": [
       "<div>\n",
       "<style scoped>\n",
       "    .dataframe tbody tr th:only-of-type {\n",
       "        vertical-align: middle;\n",
       "    }\n",
       "\n",
       "    .dataframe tbody tr th {\n",
       "        vertical-align: top;\n",
       "    }\n",
       "\n",
       "    .dataframe thead th {\n",
       "        text-align: right;\n",
       "    }\n",
       "</style>\n",
       "<table border=\"1\" class=\"dataframe\">\n",
       "  <thead>\n",
       "    <tr style=\"text-align: right;\">\n",
       "      <th></th>\n",
       "      <th>Event_Clicks</th>\n",
       "      <th>Media_Clicks</th>\n",
       "      <th>Directory_Clicks</th>\n",
       "      <th>Days_Logged_In</th>\n",
       "      <th>Predicted_School</th>\n",
       "    </tr>\n",
       "  </thead>\n",
       "  <tbody>\n",
       "    <tr>\n",
       "      <th>1916</th>\n",
       "      <td>14</td>\n",
       "      <td>16</td>\n",
       "      <td>0</td>\n",
       "      <td>108</td>\n",
       "      <td>Villa Duchesne - St. Louis, MO</td>\n",
       "    </tr>\n",
       "    <tr>\n",
       "      <th>1917</th>\n",
       "      <td>15</td>\n",
       "      <td>10</td>\n",
       "      <td>2</td>\n",
       "      <td>56</td>\n",
       "      <td>Villa Duchesne - St. Louis, MO</td>\n",
       "    </tr>\n",
       "    <tr>\n",
       "      <th>1918</th>\n",
       "      <td>3</td>\n",
       "      <td>8</td>\n",
       "      <td>16</td>\n",
       "      <td>46</td>\n",
       "      <td>Villa Duchesne - St. Louis, MO</td>\n",
       "    </tr>\n",
       "    <tr>\n",
       "      <th>1919</th>\n",
       "      <td>8</td>\n",
       "      <td>0</td>\n",
       "      <td>4</td>\n",
       "      <td>44</td>\n",
       "      <td>Villa Duchesne - St. Louis, MO</td>\n",
       "    </tr>\n",
       "    <tr>\n",
       "      <th>1920</th>\n",
       "      <td>7</td>\n",
       "      <td>0</td>\n",
       "      <td>12</td>\n",
       "      <td>3</td>\n",
       "      <td>Villa Duchesne - St. Louis, MO</td>\n",
       "    </tr>\n",
       "    <tr>\n",
       "      <th>...</th>\n",
       "      <td>...</td>\n",
       "      <td>...</td>\n",
       "      <td>...</td>\n",
       "      <td>...</td>\n",
       "      <td>...</td>\n",
       "    </tr>\n",
       "    <tr>\n",
       "      <th>2550</th>\n",
       "      <td>7</td>\n",
       "      <td>14</td>\n",
       "      <td>5</td>\n",
       "      <td>33</td>\n",
       "      <td>Villa Duchesne - St. Louis, MO</td>\n",
       "    </tr>\n",
       "    <tr>\n",
       "      <th>2551</th>\n",
       "      <td>19</td>\n",
       "      <td>8</td>\n",
       "      <td>8</td>\n",
       "      <td>43</td>\n",
       "      <td>Villa Duchesne - St. Louis, MO</td>\n",
       "    </tr>\n",
       "    <tr>\n",
       "      <th>2552</th>\n",
       "      <td>27</td>\n",
       "      <td>10</td>\n",
       "      <td>17</td>\n",
       "      <td>44</td>\n",
       "      <td>Villa Duchesne - St. Louis, MO</td>\n",
       "    </tr>\n",
       "    <tr>\n",
       "      <th>2553</th>\n",
       "      <td>13</td>\n",
       "      <td>10</td>\n",
       "      <td>11</td>\n",
       "      <td>17</td>\n",
       "      <td>Villa Duchesne - St. Louis, MO</td>\n",
       "    </tr>\n",
       "    <tr>\n",
       "      <th>2554</th>\n",
       "      <td>20</td>\n",
       "      <td>25</td>\n",
       "      <td>1</td>\n",
       "      <td>45</td>\n",
       "      <td>Villa Duchesne - St. Louis, MO</td>\n",
       "    </tr>\n",
       "  </tbody>\n",
       "</table>\n",
       "<p>639 rows × 5 columns</p>\n",
       "</div>"
      ],
      "text/plain": [
       "      Event_Clicks  Media_Clicks  Directory_Clicks  Days_Logged_In  \\\n",
       "1916            14            16                 0             108   \n",
       "1917            15            10                 2              56   \n",
       "1918             3             8                16              46   \n",
       "1919             8             0                 4              44   \n",
       "1920             7             0                12               3   \n",
       "...            ...           ...               ...             ...   \n",
       "2550             7            14                 5              33   \n",
       "2551            19             8                 8              43   \n",
       "2552            27            10                17              44   \n",
       "2553            13            10                11              17   \n",
       "2554            20            25                 1              45   \n",
       "\n",
       "                    Predicted_School  \n",
       "1916  Villa Duchesne - St. Louis, MO  \n",
       "1917  Villa Duchesne - St. Louis, MO  \n",
       "1918  Villa Duchesne - St. Louis, MO  \n",
       "1919  Villa Duchesne - St. Louis, MO  \n",
       "1920  Villa Duchesne - St. Louis, MO  \n",
       "...                              ...  \n",
       "2550  Villa Duchesne - St. Louis, MO  \n",
       "2551  Villa Duchesne - St. Louis, MO  \n",
       "2552  Villa Duchesne - St. Louis, MO  \n",
       "2553  Villa Duchesne - St. Louis, MO  \n",
       "2554  Villa Duchesne - St. Louis, MO  \n",
       "\n",
       "[639 rows x 5 columns]"
      ]
     },
     "execution_count": 26,
     "metadata": {},
     "output_type": "execute_result"
    }
   ],
   "source": [
    "# Print predictions for Event_Clicks, Media_Clicks, Directory_Clicks, and Days_Logged_In\n",
    "predicted_features_users = villa_duchesne_data_for_prediction.copy()\n",
    "predicted_features_users['Predicted_School'] = villa_predictions_rf\n",
    "predicted_features_users"
   ]
  },
  {
   "cell_type": "markdown",
   "id": "4bf121d6",
   "metadata": {},
   "source": [
    "The purpose of the code is to print predictions for specific user engagement metrics. This is important to us because we can see what data the model generated, giving us insights into how the model is thinking. We can look throught this information to see if any outliers were generated and if any of the data points are unrealistic to ensure our model was created properly."
   ]
  },
  {
   "cell_type": "code",
   "execution_count": 27,
   "id": "96c4bd99",
   "metadata": {},
   "outputs": [
    {
     "data": {
      "image/png": "[encoded data removed]",
      "text/plain": [
       "<Figure size 1080x432 with 1 Axes>"
      ]
     },
     "metadata": {
      "needs_background": "light"
     },
     "output_type": "display_data"
    }
   ],
   "source": [
    "# Predictions for other schools\n",
    "other_schools_data = selected_features_users[selected_features_users['School'] != 'Villa Duchesne - St. Louis, MO']\n",
    "\n",
    "# Concatenate the predicted features for Villa Duchesne with the actual features for other schools\n",
    "comparison_data = pd.concat([villa_duchesne_data_for_prediction, other_schools_data.drop(columns=['User_ID', 'Identification', 'School'])])\n",
    "comparison_data['Predicted_School'] = np.concatenate((villa_predictions_rf, other_schools_data['School'].values))\n",
    "\n",
    "# Boxplot comparing Event_Clicks for Villa Duchesne and other schools\n",
    "plt.figure(figsize=(15, 6))\n",
    "sns.boxplot(data=comparison_data, x='Predicted_School', y='Event_Clicks')\n",
    "plt.title('Comparison of Event Clicks between Villa Duchesne and Other Schools')\n",
    "plt.show()"
   ]
  },
  {
   "cell_type": "markdown",
   "id": "1d957b1d",
   "metadata": {},
   "source": [
    "The Comparison of Event Clicks between Villa Duchesne and the other schools gives us insights into how the generated dummy data looks compared to the other schools. By generating this comparison we can conclude that our dummy data is a properly distributed and is a good representation of the other three schools. This is important to know to ensure that our data is properly created, and will represent the demographics at Villa accurately.  "
   ]
  },
  {
   "cell_type": "code",
   "execution_count": 28,
   "id": "cf8c36ad",
   "metadata": {
    "scrolled": false
   },
   "outputs": [
    {
     "name": "stdout",
     "output_type": "stream",
     "text": [
      "Mean values for each numerical column by School:\n"
     ]
    },
    {
     "data": {
      "text/html": [
       "<div>\n",
       "<style scoped>\n",
       "    .dataframe tbody tr th:only-of-type {\n",
       "        vertical-align: middle;\n",
       "    }\n",
       "\n",
       "    .dataframe tbody tr th {\n",
       "        vertical-align: top;\n",
       "    }\n",
       "\n",
       "    .dataframe thead th {\n",
       "        text-align: right;\n",
       "    }\n",
       "</style>\n",
       "<table border=\"1\" class=\"dataframe\">\n",
       "  <thead>\n",
       "    <tr style=\"text-align: right;\">\n",
       "      <th></th>\n",
       "      <th>Event_Clicks</th>\n",
       "      <th>Media_Clicks</th>\n",
       "      <th>Directory_Clicks</th>\n",
       "      <th>Days_Logged_In</th>\n",
       "    </tr>\n",
       "    <tr>\n",
       "      <th>School</th>\n",
       "      <th></th>\n",
       "      <th></th>\n",
       "      <th></th>\n",
       "      <th></th>\n",
       "    </tr>\n",
       "  </thead>\n",
       "  <tbody>\n",
       "    <tr>\n",
       "      <th>Incarnate Word Academy - St. Louis, MO</th>\n",
       "      <td>11.568238</td>\n",
       "      <td>13.379653</td>\n",
       "      <td>4.213400</td>\n",
       "      <td>48.347395</td>\n",
       "    </tr>\n",
       "    <tr>\n",
       "      <th>Nerinx Hall - St. Louis, MO</th>\n",
       "      <td>17.717233</td>\n",
       "      <td>4.015777</td>\n",
       "      <td>7.686893</td>\n",
       "      <td>57.745146</td>\n",
       "    </tr>\n",
       "    <tr>\n",
       "      <th>St. Joseph's Academy - St. Louis, MO</th>\n",
       "      <td>17.107402</td>\n",
       "      <td>4.346880</td>\n",
       "      <td>7.931785</td>\n",
       "      <td>55.802612</td>\n",
       "    </tr>\n",
       "    <tr>\n",
       "      <th>Villa Duchesne - St. Louis, MO</th>\n",
       "      <td>16.070423</td>\n",
       "      <td>6.380282</td>\n",
       "      <td>6.816901</td>\n",
       "      <td>54.192488</td>\n",
       "    </tr>\n",
       "  </tbody>\n",
       "</table>\n",
       "</div>"
      ],
      "text/plain": [
       "                                        Event_Clicks  Media_Clicks  \\\n",
       "School                                                               \n",
       "Incarnate Word Academy - St. Louis, MO     11.568238     13.379653   \n",
       "Nerinx Hall - St. Louis, MO                17.717233      4.015777   \n",
       "St. Joseph's Academy - St. Louis, MO       17.107402      4.346880   \n",
       "Villa Duchesne - St. Louis, MO             16.070423      6.380282   \n",
       "\n",
       "                                        Directory_Clicks  Days_Logged_In  \n",
       "School                                                                    \n",
       "Incarnate Word Academy - St. Louis, MO          4.213400       48.347395  \n",
       "Nerinx Hall - St. Louis, MO                     7.686893       57.745146  \n",
       "St. Joseph's Academy - St. Louis, MO            7.931785       55.802612  \n",
       "Villa Duchesne - St. Louis, MO                  6.816901       54.192488  "
      ]
     },
     "execution_count": 28,
     "metadata": {},
     "output_type": "execute_result"
    }
   ],
   "source": [
    "# Filter numerical columns\n",
    "numerical_columns = selected_features_users.select_dtypes(include=['int64', 'float64'])\n",
    "mean_by_school = selected_features_users.groupby('School')[numerical_columns.columns].mean()\n",
    "\n",
    "# Print the mean for each numerical column\n",
    "print(\"Mean values for each numerical column by School:\")\n",
    "mean_by_school"
   ]
  },
  {
   "cell_type": "markdown",
   "id": "88789b35",
   "metadata": {},
   "source": [
    "This information shows us the average amount of clicks for events, media, directory and shows us the average days logged in. This data shows us that Villa is predicted to be closely related to Nerinx and St. Joseph's. We can take this data to Villa and show them that we predict these results if you take a similar approach as Nerinx and St. Joseph's. To impove upon these results we wil show the most popular events that these other schools put on later in the notebook. "
   ]
  },
  {
   "cell_type": "markdown",
   "id": "d16a44ab",
   "metadata": {},
   "source": [
    "----------------------------------------------------------------------------------------------------------------------------------------------------------------"
   ]
  },
  {
   "cell_type": "markdown",
   "id": "c30cb536-0b9b-456b-aacd-1172bb2f176e",
   "metadata": {},
   "source": [
    "## Model for Events"
   ]
  },
  {
   "cell_type": "code",
   "execution_count": 29,
   "id": "de843509",
   "metadata": {},
   "outputs": [
    {
     "data": {
      "text/plain": [
       "409"
      ]
     },
     "execution_count": 29,
     "metadata": {},
     "output_type": "execute_result"
    }
   ],
   "source": [
    "# Calculating the average number of events among the 3 schools\n",
    "\n",
    "total_events = [477, 456, 293]\n",
    "average_events = sum(total_events) / len(total_events)\n",
    "round(average_events)"
   ]
  },
  {
   "cell_type": "markdown",
   "id": "41424fc0",
   "metadata": {},
   "source": [
    "By calculating the average number of events from all three schools we can help Villa set a baseline for how many events that they should put on inorder to drive the most engagement from their users. "
   ]
  },
  {
   "cell_type": "code",
   "execution_count": 30,
   "id": "a1be5080-29d6-47c4-85cb-5b8c2e77b371",
   "metadata": {
    "scrolled": true
   },
   "outputs": [
    {
     "data": {
      "text/html": [
       "<div>\n",
       "<style scoped>\n",
       "    .dataframe tbody tr th:only-of-type {\n",
       "        vertical-align: middle;\n",
       "    }\n",
       "\n",
       "    .dataframe tbody tr th {\n",
       "        vertical-align: top;\n",
       "    }\n",
       "\n",
       "    .dataframe thead th {\n",
       "        text-align: right;\n",
       "    }\n",
       "</style>\n",
       "<table border=\"1\" class=\"dataframe\">\n",
       "  <thead>\n",
       "    <tr style=\"text-align: right;\">\n",
       "      <th></th>\n",
       "      <th>Name</th>\n",
       "      <th>School</th>\n",
       "      <th>Location</th>\n",
       "      <th>Clicks</th>\n",
       "      <th>Created By</th>\n",
       "      <th>Category</th>\n",
       "    </tr>\n",
       "  </thead>\n",
       "  <tbody>\n",
       "    <tr>\n",
       "      <th>0</th>\n",
       "      <td>Faculty &amp; Staff Retreat</td>\n",
       "      <td>Incarnate Word Academy - St. Louis, MO</td>\n",
       "      <td>Pallottine Renewal Center</td>\n",
       "      <td>4</td>\n",
       "      <td>Incarnate Word Academy</td>\n",
       "      <td>Organizational</td>\n",
       "    </tr>\n",
       "    <tr>\n",
       "      <th>1</th>\n",
       "      <td>Freshman Volleyball vs. Laffayette High School</td>\n",
       "      <td>Incarnate Word Academy - St. Louis, MO</td>\n",
       "      <td>Incarnate Word Academy Gym</td>\n",
       "      <td>7</td>\n",
       "      <td>IWA Athletics</td>\n",
       "      <td>Sports</td>\n",
       "    </tr>\n",
       "    <tr>\n",
       "      <th>2</th>\n",
       "      <td>Freshman Volleyball vs. Pattonville</td>\n",
       "      <td>Incarnate Word Academy - St. Louis, MO</td>\n",
       "      <td>Incarnate Word Academy Gym</td>\n",
       "      <td>3</td>\n",
       "      <td>IWA Athletics</td>\n",
       "      <td>Sports</td>\n",
       "    </tr>\n",
       "    <tr>\n",
       "      <th>3</th>\n",
       "      <td>IWA Feast Day Holy Week Mass - Liturgy Schedule</td>\n",
       "      <td>Incarnate Word Academy - St. Louis, MO</td>\n",
       "      <td>2788 Normandy Drive 63121</td>\n",
       "      <td>14</td>\n",
       "      <td>Incarnate Word Academy</td>\n",
       "      <td>Organizational</td>\n",
       "    </tr>\n",
       "    <tr>\n",
       "      <th>4</th>\n",
       "      <td>No School - Faculty and Staff Retreat</td>\n",
       "      <td>Incarnate Word Academy - St. Louis, MO</td>\n",
       "      <td>2788 Normandy Drive 63121</td>\n",
       "      <td>18</td>\n",
       "      <td>Incarnate Word Academy</td>\n",
       "      <td>Organizational</td>\n",
       "    </tr>\n",
       "  </tbody>\n",
       "</table>\n",
       "</div>"
      ],
      "text/plain": [
       "                                              Name  \\\n",
       "0                          Faculty & Staff Retreat   \n",
       "1   Freshman Volleyball vs. Laffayette High School   \n",
       "2              Freshman Volleyball vs. Pattonville   \n",
       "3  IWA Feast Day Holy Week Mass - Liturgy Schedule   \n",
       "4            No School - Faculty and Staff Retreat   \n",
       "\n",
       "                                   School                    Location  Clicks  \\\n",
       "0  Incarnate Word Academy - St. Louis, MO   Pallottine Renewal Center       4   \n",
       "1  Incarnate Word Academy - St. Louis, MO  Incarnate Word Academy Gym       7   \n",
       "2  Incarnate Word Academy - St. Louis, MO  Incarnate Word Academy Gym       3   \n",
       "3  Incarnate Word Academy - St. Louis, MO   2788 Normandy Drive 63121      14   \n",
       "4  Incarnate Word Academy - St. Louis, MO   2788 Normandy Drive 63121      18   \n",
       "\n",
       "               Created By        Category  \n",
       "0  Incarnate Word Academy  Organizational  \n",
       "1           IWA Athletics          Sports  \n",
       "2           IWA Athletics          Sports  \n",
       "3  Incarnate Word Academy  Organizational  \n",
       "4  Incarnate Word Academy  Organizational  "
      ]
     },
     "execution_count": 30,
     "metadata": {},
     "output_type": "execute_result"
    }
   ],
   "source": [
    "num_events = 409\n",
    "villa_events_data = {\n",
    "    'Name': [f'Event {i}' for i in range(1, num_events + 1)],\n",
    "    'School': 'Villa Duchesne - St. Louis, MO',\n",
    "    'Location': np.random.choice(['Location A', 'Location B', 'Location C'], size=num_events),\n",
    "    'Clicks': np.random.randint(0, 20, size=num_events),\n",
    "    'Created By': np.random.choice(['User A', 'User B', 'User C'], size=num_events),\n",
    "    'Category': np.random.choice(['Category 1', 'Category 2', 'Category 3'], size=num_events)\n",
    "}\n",
    "selected_features_df2.head()"
   ]
  },
  {
   "cell_type": "markdown",
   "id": "1cda5e95",
   "metadata": {},
   "source": [
    "This code generates dummy data for events within the Villa Duchesne school community, including event names, locations, click counts, creators, and categories. Based on these generated events we will see which events genrate the most clicks."
   ]
  },
  {
   "cell_type": "code",
   "execution_count": 31,
   "id": "a577a1f7",
   "metadata": {},
   "outputs": [
    {
     "data": {
      "text/html": [
       "<div>\n",
       "<style scoped>\n",
       "    .dataframe tbody tr th:only-of-type {\n",
       "        vertical-align: middle;\n",
       "    }\n",
       "\n",
       "    .dataframe tbody tr th {\n",
       "        vertical-align: top;\n",
       "    }\n",
       "\n",
       "    .dataframe thead th {\n",
       "        text-align: right;\n",
       "    }\n",
       "</style>\n",
       "<table border=\"1\" class=\"dataframe\">\n",
       "  <thead>\n",
       "    <tr style=\"text-align: right;\">\n",
       "      <th></th>\n",
       "      <th>School</th>\n",
       "      <th>Clicks</th>\n",
       "    </tr>\n",
       "  </thead>\n",
       "  <tbody>\n",
       "    <tr>\n",
       "      <th>0</th>\n",
       "      <td>Incarnate Word Academy - St. Louis, MO</td>\n",
       "      <td>4</td>\n",
       "    </tr>\n",
       "    <tr>\n",
       "      <th>1</th>\n",
       "      <td>Incarnate Word Academy - St. Louis, MO</td>\n",
       "      <td>7</td>\n",
       "    </tr>\n",
       "    <tr>\n",
       "      <th>2</th>\n",
       "      <td>Incarnate Word Academy - St. Louis, MO</td>\n",
       "      <td>3</td>\n",
       "    </tr>\n",
       "    <tr>\n",
       "      <th>3</th>\n",
       "      <td>Incarnate Word Academy - St. Louis, MO</td>\n",
       "      <td>14</td>\n",
       "    </tr>\n",
       "    <tr>\n",
       "      <th>4</th>\n",
       "      <td>Incarnate Word Academy - St. Louis, MO</td>\n",
       "      <td>18</td>\n",
       "    </tr>\n",
       "    <tr>\n",
       "      <th>...</th>\n",
       "      <td>...</td>\n",
       "      <td>...</td>\n",
       "    </tr>\n",
       "    <tr>\n",
       "      <th>1221</th>\n",
       "      <td>St. Joseph's Academy - St. Louis, MO</td>\n",
       "      <td>0</td>\n",
       "    </tr>\n",
       "    <tr>\n",
       "      <th>1222</th>\n",
       "      <td>St. Joseph's Academy - St. Louis, MO</td>\n",
       "      <td>0</td>\n",
       "    </tr>\n",
       "    <tr>\n",
       "      <th>1223</th>\n",
       "      <td>St. Joseph's Academy - St. Louis, MO</td>\n",
       "      <td>0</td>\n",
       "    </tr>\n",
       "    <tr>\n",
       "      <th>1224</th>\n",
       "      <td>St. Joseph's Academy - St. Louis, MO</td>\n",
       "      <td>0</td>\n",
       "    </tr>\n",
       "    <tr>\n",
       "      <th>1225</th>\n",
       "      <td>St. Joseph's Academy - St. Louis, MO</td>\n",
       "      <td>0</td>\n",
       "    </tr>\n",
       "  </tbody>\n",
       "</table>\n",
       "<p>1226 rows × 2 columns</p>\n",
       "</div>"
      ],
      "text/plain": [
       "                                      School  Clicks\n",
       "0     Incarnate Word Academy - St. Louis, MO       4\n",
       "1     Incarnate Word Academy - St. Louis, MO       7\n",
       "2     Incarnate Word Academy - St. Louis, MO       3\n",
       "3     Incarnate Word Academy - St. Louis, MO      14\n",
       "4     Incarnate Word Academy - St. Louis, MO      18\n",
       "...                                      ...     ...\n",
       "1221    St. Joseph's Academy - St. Louis, MO       0\n",
       "1222    St. Joseph's Academy - St. Louis, MO       0\n",
       "1223    St. Joseph's Academy - St. Louis, MO       0\n",
       "1224    St. Joseph's Academy - St. Louis, MO       0\n",
       "1225    St. Joseph's Academy - St. Louis, MO       0\n",
       "\n",
       "[1226 rows x 2 columns]"
      ]
     },
     "execution_count": 31,
     "metadata": {},
     "output_type": "execute_result"
    }
   ],
   "source": [
    "selected_features_df2_filtered = selected_features_df2[['School', 'Clicks']]\n",
    "selected_features_df2_filtered"
   ]
  },
  {
   "cell_type": "code",
   "execution_count": 32,
   "id": "f1359d52",
   "metadata": {},
   "outputs": [
    {
     "data": {
      "text/html": [
       "<div>\n",
       "<style scoped>\n",
       "    .dataframe tbody tr th:only-of-type {\n",
       "        vertical-align: middle;\n",
       "    }\n",
       "\n",
       "    .dataframe tbody tr th {\n",
       "        vertical-align: top;\n",
       "    }\n",
       "\n",
       "    .dataframe thead th {\n",
       "        text-align: right;\n",
       "    }\n",
       "</style>\n",
       "<table border=\"1\" class=\"dataframe\">\n",
       "  <thead>\n",
       "    <tr style=\"text-align: right;\">\n",
       "      <th></th>\n",
       "      <th>School</th>\n",
       "      <th>Clicks</th>\n",
       "    </tr>\n",
       "  </thead>\n",
       "  <tbody>\n",
       "    <tr>\n",
       "      <th>0</th>\n",
       "      <td>Villa Duchesne - St. Louis, MO</td>\n",
       "      <td>0</td>\n",
       "    </tr>\n",
       "    <tr>\n",
       "      <th>1</th>\n",
       "      <td>Villa Duchesne - St. Louis, MO</td>\n",
       "      <td>17</td>\n",
       "    </tr>\n",
       "    <tr>\n",
       "      <th>2</th>\n",
       "      <td>Villa Duchesne - St. Louis, MO</td>\n",
       "      <td>19</td>\n",
       "    </tr>\n",
       "    <tr>\n",
       "      <th>3</th>\n",
       "      <td>Villa Duchesne - St. Louis, MO</td>\n",
       "      <td>11</td>\n",
       "    </tr>\n",
       "    <tr>\n",
       "      <th>4</th>\n",
       "      <td>Villa Duchesne - St. Louis, MO</td>\n",
       "      <td>15</td>\n",
       "    </tr>\n",
       "  </tbody>\n",
       "</table>\n",
       "</div>"
      ],
      "text/plain": [
       "                           School  Clicks\n",
       "0  Villa Duchesne - St. Louis, MO       0\n",
       "1  Villa Duchesne - St. Louis, MO      17\n",
       "2  Villa Duchesne - St. Louis, MO      19\n",
       "3  Villa Duchesne - St. Louis, MO      11\n",
       "4  Villa Duchesne - St. Louis, MO      15"
      ]
     },
     "execution_count": 32,
     "metadata": {},
     "output_type": "execute_result"
    }
   ],
   "source": [
    "# Define the number of rows for the dummy data\n",
    "num_rows = 409\n",
    "\n",
    "# Generate dummy data for Villa Duchesne\n",
    "villa_duchesne_dummy_data = {\n",
    "    'School': ['Villa Duchesne - St. Louis, MO'] * num_rows,\n",
    "    'Clicks': np.random.randint(0, 20, size=num_rows)\n",
    "}\n",
    "\n",
    "# Create a DataFrame for the dummy data\n",
    "villa_duchesne_dummy_df = pd.DataFrame(villa_duchesne_dummy_data)\n",
    "villa_duchesne_dummy_df.head()"
   ]
  },
  {
   "cell_type": "code",
   "execution_count": 33,
   "id": "b0979c31",
   "metadata": {},
   "outputs": [
    {
     "data": {
      "text/html": [
       "<div>\n",
       "<style scoped>\n",
       "    .dataframe tbody tr th:only-of-type {\n",
       "        vertical-align: middle;\n",
       "    }\n",
       "\n",
       "    .dataframe tbody tr th {\n",
       "        vertical-align: top;\n",
       "    }\n",
       "\n",
       "    .dataframe thead th {\n",
       "        text-align: right;\n",
       "    }\n",
       "</style>\n",
       "<table border=\"1\" class=\"dataframe\">\n",
       "  <thead>\n",
       "    <tr style=\"text-align: right;\">\n",
       "      <th></th>\n",
       "      <th>School</th>\n",
       "      <th>Clicks</th>\n",
       "    </tr>\n",
       "  </thead>\n",
       "  <tbody>\n",
       "    <tr>\n",
       "      <th>0</th>\n",
       "      <td>Incarnate Word Academy - St. Louis, MO</td>\n",
       "      <td>4</td>\n",
       "    </tr>\n",
       "    <tr>\n",
       "      <th>1</th>\n",
       "      <td>Incarnate Word Academy - St. Louis, MO</td>\n",
       "      <td>7</td>\n",
       "    </tr>\n",
       "    <tr>\n",
       "      <th>2</th>\n",
       "      <td>Incarnate Word Academy - St. Louis, MO</td>\n",
       "      <td>3</td>\n",
       "    </tr>\n",
       "    <tr>\n",
       "      <th>3</th>\n",
       "      <td>Incarnate Word Academy - St. Louis, MO</td>\n",
       "      <td>14</td>\n",
       "    </tr>\n",
       "    <tr>\n",
       "      <th>4</th>\n",
       "      <td>Incarnate Word Academy - St. Louis, MO</td>\n",
       "      <td>18</td>\n",
       "    </tr>\n",
       "    <tr>\n",
       "      <th>...</th>\n",
       "      <td>...</td>\n",
       "      <td>...</td>\n",
       "    </tr>\n",
       "    <tr>\n",
       "      <th>1630</th>\n",
       "      <td>Villa Duchesne - St. Louis, MO</td>\n",
       "      <td>19</td>\n",
       "    </tr>\n",
       "    <tr>\n",
       "      <th>1631</th>\n",
       "      <td>Villa Duchesne - St. Louis, MO</td>\n",
       "      <td>11</td>\n",
       "    </tr>\n",
       "    <tr>\n",
       "      <th>1632</th>\n",
       "      <td>Villa Duchesne - St. Louis, MO</td>\n",
       "      <td>1</td>\n",
       "    </tr>\n",
       "    <tr>\n",
       "      <th>1633</th>\n",
       "      <td>Villa Duchesne - St. Louis, MO</td>\n",
       "      <td>10</td>\n",
       "    </tr>\n",
       "    <tr>\n",
       "      <th>1634</th>\n",
       "      <td>Villa Duchesne - St. Louis, MO</td>\n",
       "      <td>13</td>\n",
       "    </tr>\n",
       "  </tbody>\n",
       "</table>\n",
       "<p>1635 rows × 2 columns</p>\n",
       "</div>"
      ],
      "text/plain": [
       "                                      School  Clicks\n",
       "0     Incarnate Word Academy - St. Louis, MO       4\n",
       "1     Incarnate Word Academy - St. Louis, MO       7\n",
       "2     Incarnate Word Academy - St. Louis, MO       3\n",
       "3     Incarnate Word Academy - St. Louis, MO      14\n",
       "4     Incarnate Word Academy - St. Louis, MO      18\n",
       "...                                      ...     ...\n",
       "1630          Villa Duchesne - St. Louis, MO      19\n",
       "1631          Villa Duchesne - St. Louis, MO      11\n",
       "1632          Villa Duchesne - St. Louis, MO       1\n",
       "1633          Villa Duchesne - St. Louis, MO      10\n",
       "1634          Villa Duchesne - St. Louis, MO      13\n",
       "\n",
       "[1635 rows x 2 columns]"
      ]
     },
     "execution_count": 33,
     "metadata": {},
     "output_type": "execute_result"
    }
   ],
   "source": [
    "# Merging the data for Events:\n",
    "merged_data_events = pd.concat([selected_features_df2_filtered, villa_duchesne_dummy_df], ignore_index=True)\n",
    "merged_data_events"
   ]
  },
  {
   "cell_type": "code",
   "execution_count": 34,
   "id": "5760525e",
   "metadata": {},
   "outputs": [],
   "source": [
    "# Here we only take the data for the other three schools (not including Villa Duchesne) and use it for training, we can still evaluate the model's performance on the test set containing Villa Duchesne data. \n",
    "# This approach allows us to assess how well the model generalizes to unseen data, including data from a different school.\n",
    "\n",
    "other_schools_data = merged_data_events[merged_data_events['School'] != 'Villa Duchesne - St. Louis, MO']\n",
    "\n",
    "# Split data into features (X) and target (y)\n",
    "X = other_schools_data.drop(columns=['School'])\n",
    "y = other_schools_data['Clicks']\n",
    "\n",
    "# Split data into training and testing sets\n",
    "X_train, X_test, y_train, y_test = train_test_split(X, y, test_size=0.2, random_state=42)\n",
    "\n",
    "# Train the model\n",
    "model = RandomForestRegressor()\n",
    "model.fit(X_train, y_train)\n",
    "\n",
    "# Predict the clicks for Villa Duchesne using the trained model\n",
    "villa_duchesne_data_for_prediction = merged_data_events[merged_data_events['School'] == 'Villa Duchesne - St. Louis, MO'].drop(columns=['School'])\n",
    "villa_duchesne_clicks_predicted = model.predict(villa_duchesne_data_for_prediction)"
   ]
  },
  {
   "cell_type": "code",
   "execution_count": 35,
   "id": "082a9a98",
   "metadata": {},
   "outputs": [
    {
     "name": "stdout",
     "output_type": "stream",
     "text": [
      "RMSE: 0.7866890585210579\n"
     ]
    }
   ],
   "source": [
    "# Predictions for the test set\n",
    "y_pred = model.predict(X_test)\n",
    "\n",
    "# Calculate RMSE\n",
    "rmse = np.sqrt(mean_squared_error(y_test, y_pred))\n",
    "print(\"RMSE:\", rmse)"
   ]
  },
  {
   "cell_type": "code",
   "execution_count": 14,
   "id": "383e469f",
   "metadata": {
    "scrolled": true
   },
   "outputs": [
    {
     "data": {
      "image/png": "[encoded data removed]",
      "text/plain": [
       "<Figure size 1000x600 with 1 Axes>"
      ]
     },
     "metadata": {},
     "output_type": "display_data"
    }
   ],
   "source": [
    "# Plot actual vs predicted clicks\n",
    "plt.figure(figsize=(10, 6))\n",
    "plt.scatter(y_test, y_pred, color='blue', label='Predicted')\n",
    "plt.plot([0, max(y_test)], [0, max(y_test)], color='red', linestyle='--', label='Actual')\n",
    "plt.xlabel('Actual Clicks')\n",
    "plt.ylabel('Predicted Clicks')\n",
    "plt.title('Actual vs Predicted Clicks for Villa Duchesne (Events)')\n",
    "plt.legend()\n",
    "plt.show()\n",
    "\n",
    "# The below graph indicates that the model is making nearly perfect predictions. This scenario is ideal and suggests that the model is accurately capturing the underlying patterns in the data. \n",
    "# It means that the predicted values are very close to the actual values, which is a sign of a well-performing model."
   ]
  },
  {
   "cell_type": "markdown",
   "id": "bcfee51f",
   "metadata": {},
   "source": [
    "----------------------------------------------------------------------------------------------------------------------------------------------------------------"
   ]
  },
  {
   "cell_type": "markdown",
   "id": "1b335c75",
   "metadata": {},
   "source": [
    "## Model for Media"
   ]
  },
  {
   "cell_type": "code",
   "execution_count": 37,
   "id": "1f43d0a2",
   "metadata": {},
   "outputs": [
    {
     "data": {
      "text/plain": [
       "121"
      ]
     },
     "execution_count": 37,
     "metadata": {},
     "output_type": "execute_result"
    }
   ],
   "source": [
    "# Calculating the average number of media among the 3 schools\n",
    "\n",
    "total_media = [225, 81, 57]\n",
    "average_media = sum(total_media) / len(total_media)\n",
    "round(average_media)"
   ]
  },
  {
   "cell_type": "code",
   "execution_count": 38,
   "id": "b48e2a7c",
   "metadata": {
    "scrolled": false
   },
   "outputs": [
    {
     "name": "stdout",
     "output_type": "stream",
     "text": [
      "Dummy Data for Villa Duchesne (Media):\n"
     ]
    },
    {
     "data": {
      "text/html": [
       "<div>\n",
       "<style scoped>\n",
       "    .dataframe tbody tr th:only-of-type {\n",
       "        vertical-align: middle;\n",
       "    }\n",
       "\n",
       "    .dataframe tbody tr th {\n",
       "        vertical-align: top;\n",
       "    }\n",
       "\n",
       "    .dataframe thead th {\n",
       "        text-align: right;\n",
       "    }\n",
       "</style>\n",
       "<table border=\"1\" class=\"dataframe\">\n",
       "  <thead>\n",
       "    <tr style=\"text-align: right;\">\n",
       "      <th></th>\n",
       "      <th>School</th>\n",
       "      <th>Clicks</th>\n",
       "    </tr>\n",
       "  </thead>\n",
       "  <tbody>\n",
       "    <tr>\n",
       "      <th>0</th>\n",
       "      <td>Villa Duchesne - St. Louis, MO</td>\n",
       "      <td>2</td>\n",
       "    </tr>\n",
       "    <tr>\n",
       "      <th>1</th>\n",
       "      <td>Villa Duchesne - St. Louis, MO</td>\n",
       "      <td>3</td>\n",
       "    </tr>\n",
       "    <tr>\n",
       "      <th>2</th>\n",
       "      <td>Villa Duchesne - St. Louis, MO</td>\n",
       "      <td>36</td>\n",
       "    </tr>\n",
       "    <tr>\n",
       "      <th>3</th>\n",
       "      <td>Villa Duchesne - St. Louis, MO</td>\n",
       "      <td>39</td>\n",
       "    </tr>\n",
       "    <tr>\n",
       "      <th>4</th>\n",
       "      <td>Villa Duchesne - St. Louis, MO</td>\n",
       "      <td>47</td>\n",
       "    </tr>\n",
       "    <tr>\n",
       "      <th>...</th>\n",
       "      <td>...</td>\n",
       "      <td>...</td>\n",
       "    </tr>\n",
       "    <tr>\n",
       "      <th>116</th>\n",
       "      <td>Villa Duchesne - St. Louis, MO</td>\n",
       "      <td>32</td>\n",
       "    </tr>\n",
       "    <tr>\n",
       "      <th>117</th>\n",
       "      <td>Villa Duchesne - St. Louis, MO</td>\n",
       "      <td>15</td>\n",
       "    </tr>\n",
       "    <tr>\n",
       "      <th>118</th>\n",
       "      <td>Villa Duchesne - St. Louis, MO</td>\n",
       "      <td>37</td>\n",
       "    </tr>\n",
       "    <tr>\n",
       "      <th>119</th>\n",
       "      <td>Villa Duchesne - St. Louis, MO</td>\n",
       "      <td>34</td>\n",
       "    </tr>\n",
       "    <tr>\n",
       "      <th>120</th>\n",
       "      <td>Villa Duchesne - St. Louis, MO</td>\n",
       "      <td>33</td>\n",
       "    </tr>\n",
       "  </tbody>\n",
       "</table>\n",
       "<p>121 rows × 2 columns</p>\n",
       "</div>"
      ],
      "text/plain": [
       "                             School  Clicks\n",
       "0    Villa Duchesne - St. Louis, MO       2\n",
       "1    Villa Duchesne - St. Louis, MO       3\n",
       "2    Villa Duchesne - St. Louis, MO      36\n",
       "3    Villa Duchesne - St. Louis, MO      39\n",
       "4    Villa Duchesne - St. Louis, MO      47\n",
       "..                              ...     ...\n",
       "116  Villa Duchesne - St. Louis, MO      32\n",
       "117  Villa Duchesne - St. Louis, MO      15\n",
       "118  Villa Duchesne - St. Louis, MO      37\n",
       "119  Villa Duchesne - St. Louis, MO      34\n",
       "120  Villa Duchesne - St. Louis, MO      33\n",
       "\n",
       "[121 rows x 2 columns]"
      ]
     },
     "execution_count": 38,
     "metadata": {},
     "output_type": "execute_result"
    }
   ],
   "source": [
    "# Set the number of dummy rows for Villa Duchesne\n",
    "num_rows = 121\n",
    "\n",
    "# Define the columns and their characteristics\n",
    "columns = ['School', 'Clicks']\n",
    "\n",
    "# Generate dummy data for Villa Duchesne\n",
    "villa_duchesne_media_data = {\n",
    "    'School': ['Villa Duchesne - St. Louis, MO'] * num_rows,\n",
    "    'Clicks': np.random.randint(0, 50, size=num_rows)\n",
    "}\n",
    "\n",
    "# Create DataFrame for Villa Duchesne media dummy data\n",
    "villa_duchesne_media = pd.DataFrame(villa_duchesne_media_data, columns=columns)\n",
    "print(\"Dummy Data for Villa Duchesne (Media):\")\n",
    "villa_duchesne_media"
   ]
  },
  {
   "cell_type": "code",
   "execution_count": 39,
   "id": "3bc02733",
   "metadata": {},
   "outputs": [
    {
     "data": {
      "text/html": [
       "<div>\n",
       "<style scoped>\n",
       "    .dataframe tbody tr th:only-of-type {\n",
       "        vertical-align: middle;\n",
       "    }\n",
       "\n",
       "    .dataframe tbody tr th {\n",
       "        vertical-align: top;\n",
       "    }\n",
       "\n",
       "    .dataframe thead th {\n",
       "        text-align: right;\n",
       "    }\n",
       "</style>\n",
       "<table border=\"1\" class=\"dataframe\">\n",
       "  <thead>\n",
       "    <tr style=\"text-align: right;\">\n",
       "      <th></th>\n",
       "      <th>School</th>\n",
       "      <th>Clicks</th>\n",
       "    </tr>\n",
       "  </thead>\n",
       "  <tbody>\n",
       "    <tr>\n",
       "      <th>0</th>\n",
       "      <td>Incarnate Word Academy - St. Louis, MO</td>\n",
       "      <td>44</td>\n",
       "    </tr>\n",
       "    <tr>\n",
       "      <th>1</th>\n",
       "      <td>Incarnate Word Academy - St. Louis, MO</td>\n",
       "      <td>39</td>\n",
       "    </tr>\n",
       "    <tr>\n",
       "      <th>2</th>\n",
       "      <td>Incarnate Word Academy - St. Louis, MO</td>\n",
       "      <td>38</td>\n",
       "    </tr>\n",
       "    <tr>\n",
       "      <th>3</th>\n",
       "      <td>Incarnate Word Academy - St. Louis, MO</td>\n",
       "      <td>38</td>\n",
       "    </tr>\n",
       "    <tr>\n",
       "      <th>4</th>\n",
       "      <td>Incarnate Word Academy - St. Louis, MO</td>\n",
       "      <td>38</td>\n",
       "    </tr>\n",
       "    <tr>\n",
       "      <th>...</th>\n",
       "      <td>...</td>\n",
       "      <td>...</td>\n",
       "    </tr>\n",
       "    <tr>\n",
       "      <th>358</th>\n",
       "      <td>St. Joseph's Academy - St. Louis, MO</td>\n",
       "      <td>16</td>\n",
       "    </tr>\n",
       "    <tr>\n",
       "      <th>359</th>\n",
       "      <td>St. Joseph's Academy - St. Louis, MO</td>\n",
       "      <td>15</td>\n",
       "    </tr>\n",
       "    <tr>\n",
       "      <th>360</th>\n",
       "      <td>St. Joseph's Academy - St. Louis, MO</td>\n",
       "      <td>13</td>\n",
       "    </tr>\n",
       "    <tr>\n",
       "      <th>361</th>\n",
       "      <td>St. Joseph's Academy - St. Louis, MO</td>\n",
       "      <td>6</td>\n",
       "    </tr>\n",
       "    <tr>\n",
       "      <th>362</th>\n",
       "      <td>Incarnate Word Academy - St. Louis, MO</td>\n",
       "      <td>14</td>\n",
       "    </tr>\n",
       "  </tbody>\n",
       "</table>\n",
       "<p>363 rows × 2 columns</p>\n",
       "</div>"
      ],
      "text/plain": [
       "                                     School  Clicks\n",
       "0    Incarnate Word Academy - St. Louis, MO      44\n",
       "1    Incarnate Word Academy - St. Louis, MO      39\n",
       "2    Incarnate Word Academy - St. Louis, MO      38\n",
       "3    Incarnate Word Academy - St. Louis, MO      38\n",
       "4    Incarnate Word Academy - St. Louis, MO      38\n",
       "..                                      ...     ...\n",
       "358    St. Joseph's Academy - St. Louis, MO      16\n",
       "359    St. Joseph's Academy - St. Louis, MO      15\n",
       "360    St. Joseph's Academy - St. Louis, MO      13\n",
       "361    St. Joseph's Academy - St. Louis, MO       6\n",
       "362  Incarnate Word Academy - St. Louis, MO      14\n",
       "\n",
       "[363 rows x 2 columns]"
      ]
     },
     "execution_count": 39,
     "metadata": {},
     "output_type": "execute_result"
    }
   ],
   "source": [
    "selected_features_df3_filtered = selected_features_df3[['School', 'Clicks']]\n",
    "selected_features_df3_filtered"
   ]
  },
  {
   "cell_type": "code",
   "execution_count": 40,
   "id": "5ac4838d",
   "metadata": {},
   "outputs": [
    {
     "data": {
      "text/html": [
       "<div>\n",
       "<style scoped>\n",
       "    .dataframe tbody tr th:only-of-type {\n",
       "        vertical-align: middle;\n",
       "    }\n",
       "\n",
       "    .dataframe tbody tr th {\n",
       "        vertical-align: top;\n",
       "    }\n",
       "\n",
       "    .dataframe thead th {\n",
       "        text-align: right;\n",
       "    }\n",
       "</style>\n",
       "<table border=\"1\" class=\"dataframe\">\n",
       "  <thead>\n",
       "    <tr style=\"text-align: right;\">\n",
       "      <th></th>\n",
       "      <th>School</th>\n",
       "      <th>Clicks</th>\n",
       "    </tr>\n",
       "  </thead>\n",
       "  <tbody>\n",
       "    <tr>\n",
       "      <th>0</th>\n",
       "      <td>Incarnate Word Academy - St. Louis, MO</td>\n",
       "      <td>44</td>\n",
       "    </tr>\n",
       "    <tr>\n",
       "      <th>1</th>\n",
       "      <td>Incarnate Word Academy - St. Louis, MO</td>\n",
       "      <td>39</td>\n",
       "    </tr>\n",
       "    <tr>\n",
       "      <th>2</th>\n",
       "      <td>Incarnate Word Academy - St. Louis, MO</td>\n",
       "      <td>38</td>\n",
       "    </tr>\n",
       "    <tr>\n",
       "      <th>3</th>\n",
       "      <td>Incarnate Word Academy - St. Louis, MO</td>\n",
       "      <td>38</td>\n",
       "    </tr>\n",
       "    <tr>\n",
       "      <th>4</th>\n",
       "      <td>Incarnate Word Academy - St. Louis, MO</td>\n",
       "      <td>38</td>\n",
       "    </tr>\n",
       "    <tr>\n",
       "      <th>...</th>\n",
       "      <td>...</td>\n",
       "      <td>...</td>\n",
       "    </tr>\n",
       "    <tr>\n",
       "      <th>479</th>\n",
       "      <td>Villa Duchesne - St. Louis, MO</td>\n",
       "      <td>32</td>\n",
       "    </tr>\n",
       "    <tr>\n",
       "      <th>480</th>\n",
       "      <td>Villa Duchesne - St. Louis, MO</td>\n",
       "      <td>15</td>\n",
       "    </tr>\n",
       "    <tr>\n",
       "      <th>481</th>\n",
       "      <td>Villa Duchesne - St. Louis, MO</td>\n",
       "      <td>37</td>\n",
       "    </tr>\n",
       "    <tr>\n",
       "      <th>482</th>\n",
       "      <td>Villa Duchesne - St. Louis, MO</td>\n",
       "      <td>34</td>\n",
       "    </tr>\n",
       "    <tr>\n",
       "      <th>483</th>\n",
       "      <td>Villa Duchesne - St. Louis, MO</td>\n",
       "      <td>33</td>\n",
       "    </tr>\n",
       "  </tbody>\n",
       "</table>\n",
       "<p>484 rows × 2 columns</p>\n",
       "</div>"
      ],
      "text/plain": [
       "                                     School  Clicks\n",
       "0    Incarnate Word Academy - St. Louis, MO      44\n",
       "1    Incarnate Word Academy - St. Louis, MO      39\n",
       "2    Incarnate Word Academy - St. Louis, MO      38\n",
       "3    Incarnate Word Academy - St. Louis, MO      38\n",
       "4    Incarnate Word Academy - St. Louis, MO      38\n",
       "..                                      ...     ...\n",
       "479          Villa Duchesne - St. Louis, MO      32\n",
       "480          Villa Duchesne - St. Louis, MO      15\n",
       "481          Villa Duchesne - St. Louis, MO      37\n",
       "482          Villa Duchesne - St. Louis, MO      34\n",
       "483          Villa Duchesne - St. Louis, MO      33\n",
       "\n",
       "[484 rows x 2 columns]"
      ]
     },
     "execution_count": 40,
     "metadata": {},
     "output_type": "execute_result"
    }
   ],
   "source": [
    "# Merge the dummy data for Villa Duchesne with selected_features_df3_filtered\n",
    "merged_data_media = pd.concat([selected_features_df3_filtered, villa_duchesne_media], ignore_index=True)\n",
    "merged_data_media"
   ]
  },
  {
   "cell_type": "code",
   "execution_count": 41,
   "id": "cb602dcc",
   "metadata": {},
   "outputs": [
    {
     "name": "stdout",
     "output_type": "stream",
     "text": [
      "RMSE for Media prediction: 0.10175268177017643\n"
     ]
    }
   ],
   "source": [
    "# Split data into features (X_media) and target (y_media)\n",
    "X_media = merged_data_media.drop(columns=['School'])\n",
    "y_media = merged_data_media['Clicks']\n",
    "\n",
    "# Split data into training and testing sets\n",
    "X_train_media, X_test_media, y_train_media, y_test_media = train_test_split(X_media, y_media, test_size=0.2, random_state=42)\n",
    "\n",
    "# Train the model\n",
    "model_media = RandomForestRegressor()\n",
    "model_media.fit(X_train_media, y_train_media)\n",
    "\n",
    "# Predict the clicks for Villa Duchesne media\n",
    "villa_duchesne_media_for_prediction = merged_data_media[merged_data_media['School'] == 'Villa Duchesne - St. Louis, MO'].drop(columns=['School'])\n",
    "villa_duchesne_media_clicks_predicted = model_media.predict(villa_duchesne_media_for_prediction)\n",
    "\n",
    "# Calculate RMSE\n",
    "y_pred_media = model_media.predict(X_test_media)\n",
    "rmse_media = mean_squared_error(y_test_media, y_pred_media, squared=False)\n",
    "print(\"RMSE for Media prediction:\", rmse_media)"
   ]
  },
  {
   "cell_type": "code",
   "execution_count": 42,
   "id": "ac72932d",
   "metadata": {},
   "outputs": [
    {
     "data": {
      "image/png": "[encoded data removed]",
      "text/plain": [
       "<Figure size 720x432 with 1 Axes>"
      ]
     },
     "metadata": {
      "needs_background": "light"
     },
     "output_type": "display_data"
    }
   ],
   "source": [
    "# Plot actual vs predicted clicks\n",
    "plt.figure(figsize=(10, 6))\n",
    "plt.scatter(y_test_media, y_pred_media, color='blue', label='Predicted')\n",
    "plt.plot([0, max(y_test_media)], [0, max(y_test_media)], color='red', linestyle='--', label='Actual')\n",
    "plt.title('Actual vs Predicted Clicks for Villa Duchesne (Media)')\n",
    "plt.xlabel('Actual Clicks')\n",
    "plt.ylabel('Predicted Clicks')\n",
    "plt.legend()\n",
    "plt.grid(True)\n",
    "plt.show()"
   ]
  },
  {
   "cell_type": "code",
   "execution_count": 51,
   "id": "b81efc49",
   "metadata": {},
   "outputs": [
    {
     "data": {
      "text/plain": [
       "0.056630486078338836"
      ]
     },
     "execution_count": 51,
     "metadata": {},
     "output_type": "execute_result"
    }
   ],
   "source": [
    "# Totals for events, media, and cost per month\n",
    "total_events_posts_corrected = 1226 + 409\n",
    "total_media_posts_corrected = 363 + 121\n",
    "total_monthly_cost_corrected = 120\n",
    "\n",
    "total_posts_corrected = total_events_posts_corrected + total_media_posts_corrected\n",
    "cost_per_post_corrected = total_monthly_cost_corrected / total_posts_corrected\n",
    "\n",
    "cost_per_post_corrected"
   ]
  },
  {
   "cell_type": "markdown",
   "id": "f36cf886",
   "metadata": {},
   "source": [
    "To automate the events and media, pulling from multiple sources, it costs around 120 dollars/month for automation tools. Based on the results above, when implementing Villa, it will cost approximately $5.66 cents per post, when I am allocating a monthly budget of 120 dollars across all posts."
   ]
  },
  {
   "cell_type": "code",
   "execution_count": 52,
   "id": "d213b8b3",
   "metadata": {},
   "outputs": [
    {
     "data": {
      "text/plain": [
       "0.0189"
      ]
     },
     "execution_count": 52,
     "metadata": {},
     "output_type": "execute_result"
    }
   ],
   "source": [
    "# Calculate the reduction in cost per post\n",
    "cost_per_post_before = 0.0755  # Cost per post before adding Villa's data\n",
    "cost_per_post_after = 0.0566  # Cost per post after adding Villa's data\n",
    "\n",
    "reduction_in_cost = cost_per_post_before - cost_per_post_after\n",
    "reduction_in_cost"
   ]
  },
  {
   "cell_type": "markdown",
   "id": "cf8ba561",
   "metadata": {},
   "source": [
    "As a result of Bloc being implemented at Villa, the average cost per post could be reduced by approximately $1.89 cents per post."
   ]
  },
  {
   "cell_type": "markdown",
   "id": "96566e01",
   "metadata": {},
   "source": [
    "----------------------------------------------------------------------------------------------------------------------------------------------------------------"
   ]
  },
  {
   "cell_type": "markdown",
   "id": "64f86b0a",
   "metadata": {},
   "source": [
    "## Model for Directory"
   ]
  },
  {
   "cell_type": "code",
   "execution_count": 3,
   "id": "3edbf6c5",
   "metadata": {},
   "outputs": [
    {
     "data": {
      "text/plain": [
       "22"
      ]
     },
     "execution_count": 3,
     "metadata": {},
     "output_type": "execute_result"
    }
   ],
   "source": [
    "# Calculating the average number of directories among the 3 schools\n",
    "\n",
    "total_directory = [27, 19, 19]\n",
    "average_directory = sum(total_directory) / len(total_directory)\n",
    "round(average_directory)"
   ]
  },
  {
   "cell_type": "markdown",
   "id": "44526b42",
   "metadata": {},
   "source": [
    "Above, we take the average of the number of directories at other schools for later use in our predictive model."
   ]
  },
  {
   "cell_type": "code",
   "execution_count": 11,
   "id": "bf7d23ae",
   "metadata": {},
   "outputs": [
    {
     "data": {
      "text/html": [
       "<div>\n",
       "<style scoped>\n",
       "    .dataframe tbody tr th:only-of-type {\n",
       "        vertical-align: middle;\n",
       "    }\n",
       "\n",
       "    .dataframe tbody tr th {\n",
       "        vertical-align: top;\n",
       "    }\n",
       "\n",
       "    .dataframe thead th {\n",
       "        text-align: right;\n",
       "    }\n",
       "</style>\n",
       "<table border=\"1\" class=\"dataframe\">\n",
       "  <thead>\n",
       "    <tr style=\"text-align: right;\">\n",
       "      <th></th>\n",
       "      <th>School</th>\n",
       "      <th>Clicks</th>\n",
       "    </tr>\n",
       "  </thead>\n",
       "  <tbody>\n",
       "    <tr>\n",
       "      <th>0</th>\n",
       "      <td>Incarnate Word Academy - St. Louis, MO</td>\n",
       "      <td>29</td>\n",
       "    </tr>\n",
       "    <tr>\n",
       "      <th>1</th>\n",
       "      <td>Incarnate Word Academy - St. Louis, MO</td>\n",
       "      <td>98</td>\n",
       "    </tr>\n",
       "    <tr>\n",
       "      <th>2</th>\n",
       "      <td>Incarnate Word Academy - St. Louis, MO</td>\n",
       "      <td>36</td>\n",
       "    </tr>\n",
       "    <tr>\n",
       "      <th>3</th>\n",
       "      <td>Incarnate Word Academy - St. Louis, MO</td>\n",
       "      <td>25</td>\n",
       "    </tr>\n",
       "    <tr>\n",
       "      <th>4</th>\n",
       "      <td>Incarnate Word Academy - St. Louis, MO</td>\n",
       "      <td>187</td>\n",
       "    </tr>\n",
       "    <tr>\n",
       "      <th>...</th>\n",
       "      <td>...</td>\n",
       "      <td>...</td>\n",
       "    </tr>\n",
       "    <tr>\n",
       "      <th>60</th>\n",
       "      <td>Nerinx Hall - St. Louis, MO</td>\n",
       "      <td>155</td>\n",
       "    </tr>\n",
       "    <tr>\n",
       "      <th>61</th>\n",
       "      <td>Nerinx Hall - St. Louis, MO</td>\n",
       "      <td>291</td>\n",
       "    </tr>\n",
       "    <tr>\n",
       "      <th>62</th>\n",
       "      <td>Nerinx Hall - St. Louis, MO</td>\n",
       "      <td>346</td>\n",
       "    </tr>\n",
       "    <tr>\n",
       "      <th>63</th>\n",
       "      <td>Nerinx Hall - St. Louis, MO</td>\n",
       "      <td>271</td>\n",
       "    </tr>\n",
       "    <tr>\n",
       "      <th>64</th>\n",
       "      <td>Nerinx Hall - St. Louis, MO</td>\n",
       "      <td>358</td>\n",
       "    </tr>\n",
       "  </tbody>\n",
       "</table>\n",
       "<p>65 rows × 2 columns</p>\n",
       "</div>"
      ],
      "text/plain": [
       "                                    School  Clicks\n",
       "0   Incarnate Word Academy - St. Louis, MO      29\n",
       "1   Incarnate Word Academy - St. Louis, MO      98\n",
       "2   Incarnate Word Academy - St. Louis, MO      36\n",
       "3   Incarnate Word Academy - St. Louis, MO      25\n",
       "4   Incarnate Word Academy - St. Louis, MO     187\n",
       "..                                     ...     ...\n",
       "60             Nerinx Hall - St. Louis, MO     155\n",
       "61             Nerinx Hall - St. Louis, MO     291\n",
       "62             Nerinx Hall - St. Louis, MO     346\n",
       "63             Nerinx Hall - St. Louis, MO     271\n",
       "64             Nerinx Hall - St. Louis, MO     358\n",
       "\n",
       "[65 rows x 2 columns]"
      ]
     },
     "execution_count": 11,
     "metadata": {},
     "output_type": "execute_result"
    }
   ],
   "source": [
    "selected_features_df3_filtered = selected_features_df4[['School', 'Clicks']]\n",
    "selected_features_df3_filtered"
   ]
  },
  {
   "cell_type": "code",
   "execution_count": 12,
   "id": "1410afa3",
   "metadata": {},
   "outputs": [
    {
     "name": "stdout",
     "output_type": "stream",
     "text": [
      "Merged data with Villa Duchesne:\n"
     ]
    },
    {
     "data": {
      "text/html": [
       "<div>\n",
       "<style scoped>\n",
       "    .dataframe tbody tr th:only-of-type {\n",
       "        vertical-align: middle;\n",
       "    }\n",
       "\n",
       "    .dataframe tbody tr th {\n",
       "        vertical-align: top;\n",
       "    }\n",
       "\n",
       "    .dataframe thead th {\n",
       "        text-align: right;\n",
       "    }\n",
       "</style>\n",
       "<table border=\"1\" class=\"dataframe\">\n",
       "  <thead>\n",
       "    <tr style=\"text-align: right;\">\n",
       "      <th></th>\n",
       "      <th>School</th>\n",
       "      <th>Clicks</th>\n",
       "    </tr>\n",
       "  </thead>\n",
       "  <tbody>\n",
       "    <tr>\n",
       "      <th>0</th>\n",
       "      <td>Incarnate Word Academy - St. Louis, MO</td>\n",
       "      <td>29</td>\n",
       "    </tr>\n",
       "    <tr>\n",
       "      <th>1</th>\n",
       "      <td>Incarnate Word Academy - St. Louis, MO</td>\n",
       "      <td>98</td>\n",
       "    </tr>\n",
       "    <tr>\n",
       "      <th>2</th>\n",
       "      <td>Incarnate Word Academy - St. Louis, MO</td>\n",
       "      <td>36</td>\n",
       "    </tr>\n",
       "    <tr>\n",
       "      <th>3</th>\n",
       "      <td>Incarnate Word Academy - St. Louis, MO</td>\n",
       "      <td>25</td>\n",
       "    </tr>\n",
       "    <tr>\n",
       "      <th>4</th>\n",
       "      <td>Incarnate Word Academy - St. Louis, MO</td>\n",
       "      <td>187</td>\n",
       "    </tr>\n",
       "    <tr>\n",
       "      <th>...</th>\n",
       "      <td>...</td>\n",
       "      <td>...</td>\n",
       "    </tr>\n",
       "    <tr>\n",
       "      <th>82</th>\n",
       "      <td>Villa Duchesne - St. Louis, MO</td>\n",
       "      <td>93</td>\n",
       "    </tr>\n",
       "    <tr>\n",
       "      <th>83</th>\n",
       "      <td>Villa Duchesne - St. Louis, MO</td>\n",
       "      <td>33</td>\n",
       "    </tr>\n",
       "    <tr>\n",
       "      <th>84</th>\n",
       "      <td>Villa Duchesne - St. Louis, MO</td>\n",
       "      <td>94</td>\n",
       "    </tr>\n",
       "    <tr>\n",
       "      <th>85</th>\n",
       "      <td>Villa Duchesne - St. Louis, MO</td>\n",
       "      <td>83</td>\n",
       "    </tr>\n",
       "    <tr>\n",
       "      <th>86</th>\n",
       "      <td>Villa Duchesne - St. Louis, MO</td>\n",
       "      <td>38</td>\n",
       "    </tr>\n",
       "  </tbody>\n",
       "</table>\n",
       "<p>87 rows × 2 columns</p>\n",
       "</div>"
      ],
      "text/plain": [
       "                                    School  Clicks\n",
       "0   Incarnate Word Academy - St. Louis, MO      29\n",
       "1   Incarnate Word Academy - St. Louis, MO      98\n",
       "2   Incarnate Word Academy - St. Louis, MO      36\n",
       "3   Incarnate Word Academy - St. Louis, MO      25\n",
       "4   Incarnate Word Academy - St. Louis, MO     187\n",
       "..                                     ...     ...\n",
       "82          Villa Duchesne - St. Louis, MO      93\n",
       "83          Villa Duchesne - St. Louis, MO      33\n",
       "84          Villa Duchesne - St. Louis, MO      94\n",
       "85          Villa Duchesne - St. Louis, MO      83\n",
       "86          Villa Duchesne - St. Louis, MO      38\n",
       "\n",
       "[87 rows x 2 columns]"
      ]
     },
     "execution_count": 12,
     "metadata": {},
     "output_type": "execute_result"
    }
   ],
   "source": [
    "# Generate random data for Villa Duchesne\n",
    "villa_duchesne_data = {\n",
    "    'School': ['Villa Duchesne - St. Louis, MO'] * 22,\n",
    "    'Clicks': np.random.randint(20, 100, size=22)\n",
    "}\n",
    "villa_duchesne_df = pd.DataFrame(villa_duchesne_data)\n",
    "\n",
    "# Merge the data with selected_features_df4\n",
    "merged_data_df4 = pd.concat([selected_features_df3_filtered, villa_duchesne_df], ignore_index=True)\n",
    "\n",
    "# Display the merged data\n",
    "print(\"Merged data with Villa Duchesne:\")\n",
    "merged_data_df4"
   ]
  },
  {
   "cell_type": "code",
   "execution_count": 33,
   "id": "4e7ebcf6",
   "metadata": {},
   "outputs": [],
   "source": [
    "# Split data into features (X) and target (y)\n",
    "X = merged_data_df4.drop(columns=['School'])\n",
    "y = merged_data_df4['Clicks']\n",
    "\n",
    "# Split data into training and testing sets\n",
    "X_train, X_test, y_train, y_test = train_test_split(X, y, test_size=0.2, random_state=42)\n",
    "\n",
    "# Train the model\n",
    "model = RandomForestRegressor()\n",
    "model.fit(X_train, y_train)\n",
    "\n",
    "# Predict clicks for Villa Duchesne\n",
    "villa_duchesne_data_for_prediction = merged_data_df4[merged_data_df4['School'] == 'Villa Duchesne - St. Louis, MO'].drop(columns=['School'])\n",
    "villa_duchesne_clicks_predicted = model.predict(villa_duchesne_data_for_prediction)\n",
    "\n",
    "# Calculate RMSE\n",
    "y_pred = model.predict(X_test)"
   ]
  },
  {
   "cell_type": "markdown",
   "id": "7d020d25",
   "metadata": {},
   "source": [
    "The RMSE of the model above, 0.385, indicates the model can relatively predict the data accurately."
   ]
  },
  {
   "cell_type": "code",
   "execution_count": 14,
   "id": "dcc88e0e",
   "metadata": {
    "scrolled": false
   },
   "outputs": [
    {
     "data": {
      "image/png": "[encoded data removed]",
      "text/plain": [
       "<Figure size 1000x600 with 1 Axes>"
      ]
     },
     "metadata": {},
     "output_type": "display_data"
    }
   ],
   "source": [
    "# Plot actual vs predicted clicks\n",
    "plt.figure(figsize=(10, 6))\n",
    "plt.scatter(y_test, y_pred, color='blue', label='Predicted')\n",
    "plt.plot([y_test.min(), y_test.max()], [y_test.min(), y_test.max()], color='red', linestyle='--', label='Actual')\n",
    "plt.title('Actual vs Predicted Directory Clicks')\n",
    "plt.xlabel('Actual Clicks')\n",
    "plt.ylabel('Predicted Clicks')\n",
    "plt.legend()\n",
    "plt.grid(True)\n",
    "plt.show()"
   ]
  },
  {
   "cell_type": "markdown",
   "id": "d641a821",
   "metadata": {},
   "source": [
    "The plot shows the actual versus predicted clicks based on our predictive model we trained. The diagonal red line represents where the predicted values would lie if they were perfect predictions, closely matching the actual clicks. The scatter of blue points illustrates how the predictions vary compared to the actual values."
   ]
  },
  {
   "cell_type": "code",
   "execution_count": 38,
   "id": "cc0f491e",
   "metadata": {
    "scrolled": true
   },
   "outputs": [
    {
     "data": {
      "text/plain": [
       "['Scholarships',\n",
       " 'Tuition and Financial Assistance',\n",
       " 'Curriculum',\n",
       " 'Athletics',\n",
       " 'Weekly Newsletter',\n",
       " 'Service Learning',\n",
       " 'Give Now',\n",
       " 'Current Parents',\n",
       " 'General Information',\n",
       " 'Counseling',\n",
       " 'Employment',\n",
       " 'Academic Guide',\n",
       " 'Reunions',\n",
       " 'Contact Coaches',\n",
       " 'Clubs']"
      ]
     },
     "execution_count": 38,
     "metadata": {},
     "output_type": "execute_result"
    }
   ],
   "source": [
    "# Create a mapping of school names to user counts\n",
    "user_counts = {\n",
    "    'Nerinx Hall - St. Louis, MO': 824,\n",
    "    'St. Joseph\\'s Academy - St. Louis, MO': 689,\n",
    "    'Incarnate Word Academy - St. Louis, MO': 403\n",
    "}\n",
    "\n",
    "# Apply mapping to create a new column for 'Users' based on the 'School' column\n",
    "df4['Users'] = df4['School'].map(user_counts)\n",
    "\n",
    "# Create new column for 'Clicks per User'\n",
    "df4['Clicks per User'] = df4['Clicks'] / df4['Users']\n",
    "\n",
    "# Sort the DataFrame by 'Clicks per User' first, descending\n",
    "df4_sorted = df4.sort_values(by='Clicks per User', ascending=False)\n",
    "\n",
    "# Drop duplicate titles, keeping the first occurrence after sorting (which has the highest clicks per user)\n",
    "df4_sorted_unique = df4_sorted.drop_duplicates(subset='Title')\n",
    "\n",
    "# Extract the top 10 titles as recommendations\n",
    "top_directories = df4_sorted_unique.head(15)['Title'].tolist()\n",
    "top_directories"
   ]
  },
  {
   "cell_type": "markdown",
   "id": "67e0f0fe",
   "metadata": {},
   "source": [
    "We wanted to analyze the effectiveness of different directories at the 3 schools by considering not just the raw number of clicks each directory receives, but the number of clicks relative to the number of users at each school. This provides a more normalized measure of directory popularity/engagement, as it accounts for the different sizes of the user bases at each school.\n",
    "\n",
    "The results give us recommendations that can not only benefit the effictiveness of the directory feature in Bloc at Villa, but will also speed up the implementation process greatly."
   ]
  },
  {
   "cell_type": "code",
   "execution_count": 41,
   "id": "57faf349",
   "metadata": {},
   "outputs": [
    {
     "data": {
      "image/png": "[encoded data removed]",
      "text/plain": [
       "<Figure size 1200x800 with 1 Axes>"
      ]
     },
     "metadata": {},
     "output_type": "display_data"
    }
   ],
   "source": [
    "top_directories_df = df4_sorted_unique.head(15)\n",
    "\n",
    "# Bar chart\n",
    "plt.figure(figsize=(12, 8))\n",
    "plt.bar(top_directories_df['Title'], top_directories_df['Clicks per User'], color='skyblue')\n",
    "plt.xlabel('Directory Titles')\n",
    "plt.ylabel('Clicks per User')\n",
    "plt.title('Popularity of Each Directory')\n",
    "plt.xticks(rotation=45, ha='right')\n",
    "plt.tight_layout()\n",
    "plt.show()"
   ]
  }
 ],
 "metadata": {
  "kernelspec": {
   "display_name": "Python 3 (ipykernel)",
   "language": "python",
   "name": "python3"
  },
  "language_info": {
   "codemirror_mode": {
    "name": "ipython",
    "version": 3
   },
   "file_extension": ".py",
   "mimetype": "text/x-python",
   "name": "python",
   "nbconvert_exporter": "python",
   "pygments_lexer": "ipython3",
   "version": "3.11.4"
  }
 },
 "nbformat": 4,
 "nbformat_minor": 5
}
